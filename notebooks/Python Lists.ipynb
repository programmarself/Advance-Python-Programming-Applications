{
 "cells": [
  {
   "cell_type": "markdown",
   "id": "a818527f-5e67-4989-8264-f94a8315e086",
   "metadata": {},
   "source": []
  },
  {
   "cell_type": "markdown",
   "id": "ac5166f2-42aa-492b-91cd-e75be3b367d1",
   "metadata": {},
   "source": [
    "* list is an important datatype or data structure\n",
    "* what is a list\n",
    "* list vs Array\n",
    "* how to create a list\n",
    "* Access the elements of list\n",
    "* Edit the list\n",
    "* Add an element to the list\n",
    "* Delete operation on list\n",
    "* operations on list\n",
    "* Functions avalaibe for list"
   ]
  },
  {
   "cell_type": "markdown",
   "id": "5434e453-f85c-4ea8-a43b-2b30e82d58a6",
   "metadata": {},
   "source": [
    "List is a datatype where you can store multiple items of different types.\n",
    "List and array are fundamentally same with slight differences.\n",
    "1. Array is homogenous(all elements in the array will be of same type, means int array will contain elements of integer type while character array will have elements of character type.\n",
    "However, list can be heterogenous, means elements in the list can be of different types\n",
    "2. Array stores elements on continous memory locations while list does not store element on continous memory location\n",
    "3. becos of continous memory allocaiton, Arrays are much faster than lists, as it takes less time to fetch elements from the array.\n",
    "4. lists are more programmer friendly, programmar can build logic effectively on lists as compared to array "
   ]
  },
  {
   "cell_type": "code",
   "execution_count": 1,
   "id": "63564a7f-f113-46d0-9a86-b4142ef91505",
   "metadata": {},
   "outputs": [
    {
     "data": {
      "text/plain": [
       "[]"
      ]
     },
     "execution_count": 1,
     "metadata": {},
     "output_type": "execute_result"
    }
   ],
   "source": [
    "# how to create a list\n",
    "# create an  empty list\n",
    "l=[] \n",
    "l"
   ]
  },
  {
   "cell_type": "code",
   "execution_count": 3,
   "id": "86513618-cee5-45ec-9c09-96a521177a03",
   "metadata": {},
   "outputs": [
    {
     "data": {
      "text/plain": [
       "[]"
      ]
     },
     "execution_count": 3,
     "metadata": {},
     "output_type": "execute_result"
    }
   ],
   "source": [
    "le= list()\n",
    "le"
   ]
  },
  {
   "cell_type": "code",
   "execution_count": 5,
   "id": "021410d3-ba0f-455c-a2b2-86148028e9a5",
   "metadata": {},
   "outputs": [
    {
     "data": {
      "text/plain": [
       "[1, 2, 3, 4, 5]"
      ]
     },
     "execution_count": 5,
     "metadata": {},
     "output_type": "execute_result"
    }
   ],
   "source": [
    "# create a homogenous list where all elements are of same type\n",
    "l2= [1,2,3,4,5]\n",
    "l2"
   ]
  },
  {
   "cell_type": "code",
   "execution_count": 7,
   "id": "033bce1c-0648-4310-862f-04adf8b8fac3",
   "metadata": {},
   "outputs": [
    {
     "data": {
      "text/plain": [
       "['Python', 22, 3.5, (4+3j), True]"
      ]
     },
     "execution_count": 7,
     "metadata": {},
     "output_type": "execute_result"
    }
   ],
   "source": [
    "# create a heterogneous list where elements are of different types\n",
    "# this is not possible in array\n",
    "l2= [\"Python\",22,3.5,4+3j,True]\n",
    "l2"
   ]
  },
  {
   "cell_type": "code",
   "execution_count": 17,
   "id": "d0d3ffe5-3045-4a23-9a5c-d2fda2b0fed4",
   "metadata": {},
   "outputs": [
    {
     "data": {
      "text/plain": [
       "[2, 3, 4, [5, 6]]"
      ]
     },
     "execution_count": 17,
     "metadata": {},
     "output_type": "execute_result"
    }
   ],
   "source": [
    "# Multi-dimensional list-2D list- list within a list, it is also heterogenous-integers+list\n",
    "l3= [2,3,4,[5,6]]    #here 2 on 'index=0\" and 3 on index=1 and 4 on index=2 and [5,6] on index=3...total item of l3 list is 4\n",
    "l3\n",
    "#len(l3)"
   ]
  },
  {
   "cell_type": "code",
   "execution_count": 11,
   "id": "341e82f0-90b7-4562-b453-b211b2ceb3b7",
   "metadata": {},
   "outputs": [
    {
     "data": {
      "text/plain": [
       "[5, 6]"
      ]
     },
     "execution_count": 11,
     "metadata": {},
     "output_type": "execute_result"
    }
   ],
   "source": [
    "l3[-1] # to print last index"
   ]
  },
  {
   "cell_type": "code",
   "execution_count": 19,
   "id": "249df840-d0a3-4d90-a338-a43fbcfc75ac",
   "metadata": {},
   "outputs": [
    {
     "data": {
      "text/plain": [
       "3"
      ]
     },
     "execution_count": 19,
     "metadata": {},
     "output_type": "execute_result"
    }
   ],
   "source": [
    "l3[-3] # as we know that l3 has 4 item , when we in reverse order print '-3' it will like count from 1 to 3 ..\n",
    "# on 1 index we have [5,6] and on 2 index we have 4 and on 3 index we have 3  (back ward or reverse order)"
   ]
  },
  {
   "cell_type": "code",
   "execution_count": 25,
   "id": "f2f448db-4241-4060-b954-259b3fd44b8c",
   "metadata": {},
   "outputs": [
    {
     "data": {
      "text/plain": [
       "[[1, 2, 3], [4, 5, 6]]"
      ]
     },
     "execution_count": 25,
     "metadata": {},
     "output_type": "execute_result"
    }
   ],
   "source": [
    "# 2D array\n",
    "l4=[\n",
    "    [1,2,3],\n",
    "    [4,5,6]\n",
    "]\n",
    "l4"
   ]
  },
  {
   "cell_type": "code",
   "execution_count": 27,
   "id": "37cad986-f763-4ba3-8817-b286f680ffa1",
   "metadata": {},
   "outputs": [
    {
     "data": {
      "text/plain": [
       "2"
      ]
     },
     "execution_count": 27,
     "metadata": {},
     "output_type": "execute_result"
    }
   ],
   "source": [
    "# total numbr of list or array\n",
    "len(l4)"
   ]
  },
  {
   "cell_type": "code",
   "execution_count": 29,
   "id": "e309df49-15c6-40b0-9de3-43bf0e6d1969",
   "metadata": {},
   "outputs": [
    {
     "data": {
      "text/plain": [
       "[1, 2, 3]"
      ]
     },
     "execution_count": 29,
     "metadata": {},
     "output_type": "execute_result"
    }
   ],
   "source": [
    "# to print first list or ID list\n",
    "l4[0]"
   ]
  },
  {
   "cell_type": "code",
   "execution_count": 31,
   "id": "846b1926-50e8-43f4-bb8e-e40ff0ff5031",
   "metadata": {},
   "outputs": [
    {
     "data": {
      "text/plain": [
       "[4, 5, 6]"
      ]
     },
     "execution_count": 31,
     "metadata": {},
     "output_type": "execute_result"
    }
   ],
   "source": [
    "# # to print 2nd list or 2ndD list\n",
    "\n",
    "l4[1]"
   ]
  },
  {
   "cell_type": "code",
   "execution_count": 33,
   "id": "2659d63e-e44a-45ae-8d6a-8c8d87876852",
   "metadata": {},
   "outputs": [
    {
     "data": {
      "text/plain": [
       "3"
      ]
     },
     "execution_count": 33,
     "metadata": {},
     "output_type": "execute_result"
    }
   ],
   "source": [
    "# to print from first list wich is on '0 ' index , so in first list print last item (-1) which is '3'\n",
    "l4[0][-1]"
   ]
  },
  {
   "cell_type": "code",
   "execution_count": 35,
   "id": "503879e5-bf20-4f9a-9b0b-3daf129018ca",
   "metadata": {},
   "outputs": [
    {
     "data": {
      "text/plain": [
       "6"
      ]
     },
     "execution_count": 35,
     "metadata": {},
     "output_type": "execute_result"
    }
   ],
   "source": [
    "# to print from 2nd list wich is on '1' index , so in 2nd list print last item (-1) which is '6'\n",
    "l4[1][-1]"
   ]
  },
  {
   "cell_type": "markdown",
   "id": "75182c21-2dd7-40fc-8c52-eba6752675df",
   "metadata": {},
   "source": [
    "The first layer contains two lists.\n",
    "Each list in the first layer contains two lists.\n",
    "Each list in the second layer contains three values.\n",
    "So, the structure is like a set of nested containers: first, you choose which big container (first layer), then which smaller container inside it (second layer), and finally, you find the value in the smallest container."
   ]
  },
  {
   "cell_type": "markdown",
   "id": "0de7d779-c65c-4dfe-bd59-f2a97ebe6683",
   "metadata": {},
   "source": [
    "Acessing items from a list\n",
    "The first layer contains two lists.\n",
    "Each list in the first layer contains two lists.\n",
    "Each list in the second layer contains three values.\n",
    "So, the structure is like a set of nested containers: first, you choose which big container (first layer), then which smaller container inside it (second layer), and finally, you find the value in the smallest container.\n",
    "\n",
    "\n"
   ]
  },
  {
   "cell_type": "code",
   "execution_count": 32,
   "id": "2dd3b3c3-5c1f-48e1-8d18-a57c3f15e90b",
   "metadata": {},
   "outputs": [
    {
     "data": {
      "text/plain": [
       "[[[1, 2, 3], [4, 5, 6]], [[7, 8, 9], [10, 11, 12]]]"
      ]
     },
     "execution_count": 32,
     "metadata": {},
     "output_type": "execute_result"
    }
   ],
   "source": [
    "# create a 3d list, list within a list within a list\n",
    "# Creating a 3D list\n",
    "three_d_list = [\n",
    "     # First layer\n",
    "    [  \n",
    "        [1, 2, 3],  # Second layer\n",
    "        [4, 5, 6]\n",
    "    ],\n",
    "    [   # Another set of lists in the first layer\n",
    "        [7, 8, 9],\n",
    "        [10, 11, 12]\n",
    "    ]\n",
    "]\n",
    "three_d_list\n",
    "\n"
   ]
  },
  {
   "cell_type": "code",
   "execution_count": 49,
   "id": "f7c4bd48-c48a-4de4-8867-5f3adaec0976",
   "metadata": {},
   "outputs": [
    {
     "data": {
      "text/plain": [
       "2"
      ]
     },
     "execution_count": 49,
     "metadata": {},
     "output_type": "execute_result"
    }
   ],
   "source": [
    "len(three_d_list)"
   ]
  },
  {
   "cell_type": "code",
   "execution_count": 43,
   "id": "008188e4-9bdf-4d28-803a-22683e44da09",
   "metadata": {},
   "outputs": [
    {
     "data": {
      "text/plain": [
       "5"
      ]
     },
     "execution_count": 43,
     "metadata": {},
     "output_type": "execute_result"
    }
   ],
   "source": [
    "\n",
    "three_d_list[0][-1][1]\n"
   ]
  },
  {
   "cell_type": "code",
   "execution_count": 45,
   "id": "faa28cad-fca9-4250-bff5-1521093f4976",
   "metadata": {},
   "outputs": [
    {
     "data": {
      "text/plain": [
       "5"
      ]
     },
     "execution_count": 45,
     "metadata": {},
     "output_type": "execute_result"
    }
   ],
   "source": [
    "\n",
    "three_d_list[0][1][1]\n"
   ]
  },
  {
   "cell_type": "code",
   "execution_count": 4,
   "id": "6b009855-7040-41a9-ae63-70ba2c1cd82f",
   "metadata": {},
   "outputs": [
    {
     "data": {
      "text/plain": [
       "[10, 11, 12]"
      ]
     },
     "execution_count": 4,
     "metadata": {},
     "output_type": "execute_result"
    }
   ],
   "source": [
    "three_d_list[1][1]"
   ]
  },
  {
   "cell_type": "code",
   "execution_count": 47,
   "id": "4ca8709f-2f93-4918-91c3-1d6ff7c261df",
   "metadata": {},
   "outputs": [
    {
     "data": {
      "text/plain": [
       "[7, 8, 9]"
      ]
     },
     "execution_count": 47,
     "metadata": {},
     "output_type": "execute_result"
    }
   ],
   "source": [
    "three_d_list[1][0]"
   ]
  },
  {
   "cell_type": "code",
   "execution_count": 51,
   "id": "0b32da3c-d0de-41e0-98f3-aeb93214dd68",
   "metadata": {},
   "outputs": [
    {
     "name": "stdout",
     "output_type": "stream",
     "text": [
      "6\n",
      "8\n"
     ]
    }
   ],
   "source": [
    "# Accessing elements\n",
    "print(three_d_list[0][1][2])  # Accessing the value 6\n",
    "print(three_d_list[1][0][1])  # Accessing the value 8"
   ]
  },
  {
   "cell_type": "code",
   "execution_count": 53,
   "id": "1172574d-da55-40ec-b8f1-313846a7bbf5",
   "metadata": {},
   "outputs": [
    {
     "data": {
      "text/plain": [
       "['p', 'y', 't', 'h', 'o', 'n']"
      ]
     },
     "execution_count": 53,
     "metadata": {},
     "output_type": "execute_result"
    }
   ],
   "source": [
    "# creating list with type conversion\n",
    "l= list(\"python\")  # this will convert strings into a list, rarely used\n",
    "l"
   ]
  },
  {
   "cell_type": "code",
   "execution_count": 55,
   "id": "a0f9b543-1d78-45f0-863c-7d0d90ddb31b",
   "metadata": {},
   "outputs": [
    {
     "data": {
      "text/plain": [
       "'python'"
      ]
     },
     "execution_count": 55,
     "metadata": {},
     "output_type": "execute_result"
    }
   ],
   "source": [
    "l= ''.join(l)  # this will convert strings into a list, rarely used\n",
    "l"
   ]
  },
  {
   "cell_type": "code",
   "execution_count": 57,
   "id": "1101b792-2e6f-4853-95f1-51e3268a4abe",
   "metadata": {},
   "outputs": [
    {
     "data": {
      "text/plain": [
       "['python']"
      ]
     },
     "execution_count": 57,
     "metadata": {},
     "output_type": "execute_result"
    }
   ],
   "source": [
    "newlist=[]\n",
    "newlist.append(l)\n",
    "newlist"
   ]
  },
  {
   "cell_type": "code",
   "execution_count": 59,
   "id": "ab3e853d-4b03-46d3-9ec4-521211eb2941",
   "metadata": {},
   "outputs": [
    {
     "data": {
      "text/plain": [
       "[]"
      ]
     },
     "execution_count": 59,
     "metadata": {},
     "output_type": "execute_result"
    }
   ],
   "source": [
    "l6=list() # create an empty list\n",
    "l6"
   ]
  },
  {
   "cell_type": "code",
   "execution_count": null,
   "id": "25e213bf-1831-4974-b5b7-8c6e38126e6a",
   "metadata": {},
   "outputs": [],
   "source": []
  },
  {
   "cell_type": "markdown",
   "id": "b7a4f36e-ae7e-40f9-83dd-89e1ab7012d5",
   "metadata": {},
   "source": [
    "Accessing items from a list\n",
    "python code is consistent, when u learn on one data type, the same operations are also applicable on other datatype."
   ]
  },
  {
   "cell_type": "markdown",
   "id": "b4c0f561-fc16-4075-9b1e-dc7a7dec63ee",
   "metadata": {},
   "source": [
    "The general syntax for slicing a list in Python is:\n",
    "list[start:stop:step]\n",
    "Where:\n",
    "\n",
    "start → The index where the slice begins (inclusive).\n",
    "stop → The index where the slice ends (exclusive).\n",
    "step → The interval (or step size) between elements"
   ]
  },
  {
   "cell_type": "code",
   "execution_count": 62,
   "id": "e5afc721-19c5-4c42-9240-87add89ce46c",
   "metadata": {},
   "outputs": [
    {
     "name": "stdout",
     "output_type": "stream",
     "text": [
      "[3, 4, 5, 6, 7]\n"
     ]
    }
   ],
   "source": [
    " #Basic Slicing (Extracting a Portion of the List)\n",
    "numbers = [0, 1, 2, 3, 4, 5, 6, 7, 8, 9]\n",
    "\n",
    "# Extract elements from index 2 to 6 (excluding index 6)\n",
    "print(numbers[3:8])  \n"
   ]
  },
  {
   "cell_type": "code",
   "execution_count": 37,
   "id": "ffb658f3-fe90-4a6a-8a48-cdbd0010869f",
   "metadata": {},
   "outputs": [
    {
     "name": "stdout",
     "output_type": "stream",
     "text": [
      "[0, 1, 2, 3, 4]\n"
     ]
    }
   ],
   "source": [
    "#Print first 5 numbers\n",
    "print(numbers[5:]) "
   ]
  },
  {
   "cell_type": "code",
   "execution_count": 9,
   "id": "31c46764-4aea-4dd0-9dba-57d3cf444d6b",
   "metadata": {},
   "outputs": [
    {
     "name": "stdout",
     "output_type": "stream",
     "text": [
      "[0, 1, 2, 3, 4]\n",
      "[5, 6, 7, 8, 9]\n",
      "[0, 1, 2, 3, 4, 5, 6, 7, 8, 9]\n"
     ]
    }
   ],
   "source": [
    "# Omitting start (default is 0, i.e., start from the beginning)\n",
    "print(numbers[:5])  # [0, 1, 2, 3, 4]\n",
    "\n",
    "# Omitting stop (default is the end of the list)\n",
    "print(numbers[5:])  # [5, 6, 7, 8, 9]\n",
    "\n",
    "# Omitting both (copies the entire list)\n",
    "print(numbers[:])   # [0, 1, 2, 3, 4, 5, 6, 7, 8, 9]\n"
   ]
  },
  {
   "cell_type": "code",
   "execution_count": 39,
   "id": "56bdc2c1-c908-4649-bf5a-268f8877b4ab",
   "metadata": {},
   "outputs": [
    {
     "data": {
      "text/plain": [
       "'C:\\\\Users\\\\Dr. Atif Khan\\\\NAVTAC'"
      ]
     },
     "execution_count": 39,
     "metadata": {},
     "output_type": "execute_result"
    }
   ],
   "source": [
    "pwd"
   ]
  },
  {
   "cell_type": "code",
   "execution_count": 64,
   "id": "3d3cddab-d3ac-4ce8-b5e9-3957d04d0acd",
   "metadata": {},
   "outputs": [
    {
     "data": {
      "text/plain": [
       "'E:\\\\Python For Advance Application'"
      ]
     },
     "execution_count": 64,
     "metadata": {},
     "output_type": "execute_result"
    }
   ],
   "source": [
    "# To check where or in which your notebook is save\n",
    "pwd"
   ]
  },
  {
   "cell_type": "code",
   "execution_count": 66,
   "id": "6c404404-65d6-4875-8446-2c9f8f459576",
   "metadata": {},
   "outputs": [
    {
     "name": "stdout",
     "output_type": "stream",
     "text": [
      "[0, 1, 2, 3, 4, 5, 6, 7, 8, 9]\n"
     ]
    }
   ],
   "source": [
    "print(numbers[::1])  "
   ]
  },
  {
   "cell_type": "code",
   "execution_count": 68,
   "id": "3cc8ee26-1cfc-4e4d-a3b9-641c6a448201",
   "metadata": {},
   "outputs": [
    {
     "name": "stdout",
     "output_type": "stream",
     "text": [
      "[0, 2, 4, 6, 8]\n",
      "[9, 8, 7, 6, 5, 4, 3, 2, 1, 0]\n"
     ]
    }
   ],
   "source": [
    "#Using a step Value\n",
    "# Extract every second element\n",
    "print(numbers[::2])  \n",
    "\n",
    "#Reversing a List with a Negative Step\n",
    "# Reverse the list \n",
    "#A step of -1 means moving backward from the last element to the first.\n",
    "print(numbers[::-1])  \n"
   ]
  },
  {
   "cell_type": "code",
   "execution_count": 70,
   "id": "fd31ce74-60c2-4d60-9695-8e5452230ba5",
   "metadata": {},
   "outputs": [
    {
     "name": "stdout",
     "output_type": "stream",
     "text": [
      "[0, 1, 2, 3, 4, 5, 6, 7, 8, 9]\n"
     ]
    }
   ],
   "source": [
    "# Print all list item\n",
    "print(numbers[::1]) "
   ]
  },
  {
   "cell_type": "code",
   "execution_count": 72,
   "id": "ce8d4d9e-c11a-4dce-be09-8194756fbeba",
   "metadata": {},
   "outputs": [
    {
     "name": "stdout",
     "output_type": "stream",
     "text": [
      "first elment of list  1\n",
      "last element  5\n",
      "[2, 3]\n",
      "[5, 4, 3, 2, 1]\n"
     ]
    }
   ],
   "source": [
    "l2= [1,2,3,4,5]\n",
    "print(\"first elment of list \", l2[0])   # access the first item\n",
    "\n",
    "print(\"last element \", l2[-1])  # access the last item\n",
    "\n",
    "print(l2[1:3])  # access the second and third items\n",
    "\n",
    "print(l2[::-1]) # reverse the list \n",
    "\n",
    "#Normally, l2[:] creates a full copy of the list.\n",
    "#By adding -1 as the step, it starts from the last element and moves backward to the first.\n",
    "#As a result, it returns a reversed copy of l2 without modifying the original list."
   ]
  },
  {
   "cell_type": "code",
   "execution_count": 74,
   "id": "50bb51a8-cbb3-46c6-8a29-4e7ac509313f",
   "metadata": {},
   "outputs": [
    {
     "data": {
      "text/plain": [
       "[3, 4]"
      ]
     },
     "execution_count": 74,
     "metadata": {},
     "output_type": "execute_result"
    }
   ],
   "source": [
    "l2[2:4]"
   ]
  },
  {
   "cell_type": "code",
   "execution_count": 76,
   "id": "0b146aba-d9af-478b-943a-15a962dc7c49",
   "metadata": {},
   "outputs": [
    {
     "data": {
      "text/plain": [
       "[2, 3, 4, [5, 6]]"
      ]
     },
     "execution_count": 76,
     "metadata": {},
     "output_type": "execute_result"
    }
   ],
   "source": [
    "l3  # print contents of 2d list"
   ]
  },
  {
   "cell_type": "code",
   "execution_count": 78,
   "id": "949964d8-c566-47f2-9d88-0c61d361bfd6",
   "metadata": {},
   "outputs": [
    {
     "ename": "NameError",
     "evalue": "name 'lst' is not defined",
     "output_type": "error",
     "traceback": [
      "\u001b[1;31m---------------------------------------------------------------------------\u001b[0m",
      "\u001b[1;31mNameError\u001b[0m                                 Traceback (most recent call last)",
      "Cell \u001b[1;32mIn[78], line 1\u001b[0m\n\u001b[1;32m----> 1\u001b[0m lst[\u001b[38;5;241m2\u001b[39m:\u001b[38;5;241m4\u001b[39m]\n",
      "\u001b[1;31mNameError\u001b[0m: name 'lst' is not defined"
     ]
    }
   ],
   "source": [
    "lst[2:4]"
   ]
  },
  {
   "attachments": {
    "3e58ef27-6c17-4b71-bf71-bf3f5e6b39f7.png": {
     "image/png": "[encoded data removed]"
    }
   },
   "cell_type": "markdown",
   "id": "83a5b9a4-8fe8-474f-9657-ba38aeb933bb",
   "metadata": {},
   "source": [
    "![image.png](attachment:3e58ef27-6c17-4b71-bf71-bf3f5e6b39f7.png)"
   ]
  },
  {
   "cell_type": "code",
   "execution_count": 2,
   "id": "8175d604-ead3-4bef-9718-78432657cdd2",
   "metadata": {},
   "outputs": [
    {
     "data": {
      "text/plain": [
       "[2, 3, 4, [5, 6]]"
      ]
     },
     "execution_count": 2,
     "metadata": {},
     "output_type": "execute_result"
    }
   ],
   "source": [
    "l3= [2,3,4,[5,6]]\n",
    "l3\n"
   ]
  },
  {
   "cell_type": "code",
   "execution_count": 4,
   "id": "ccdec0f2-5baf-4c1f-971c-7260bb9918e2",
   "metadata": {},
   "outputs": [
    {
     "data": {
      "text/plain": [
       "[5, 6]"
      ]
     },
     "execution_count": 4,
     "metadata": {},
     "output_type": "execute_result"
    }
   ],
   "source": [
    "x=l3[-1]\n",
    "x"
   ]
  },
  {
   "cell_type": "code",
   "execution_count": 8,
   "id": "a9f520d4-5a99-4a5a-b630-7b9f6da5d614",
   "metadata": {},
   "outputs": [
    {
     "data": {
      "text/plain": [
       "6"
      ]
     },
     "execution_count": 8,
     "metadata": {},
     "output_type": "execute_result"
    }
   ],
   "source": [
    "x[1]"
   ]
  },
  {
   "cell_type": "code",
   "execution_count": 10,
   "id": "0983ed95-1b0f-4e85-b1e8-a49cc9045cec",
   "metadata": {},
   "outputs": [
    {
     "data": {
      "text/plain": [
       "5"
      ]
     },
     "execution_count": 10,
     "metadata": {},
     "output_type": "execute_result"
    }
   ],
   "source": [
    "x[0]"
   ]
  },
  {
   "cell_type": "code",
   "execution_count": 28,
   "id": "f2695ae0-9156-40f3-a51a-bf1f86fc6407",
   "metadata": {},
   "outputs": [
    {
     "name": "stdout",
     "output_type": "stream",
     "text": [
      "5\n",
      "6\n",
      "6\n",
      "5\n"
     ]
    }
   ],
   "source": [
    "# Access the last item, in 2d list, which is itself a list,used 2 square bracket, and use -ve index\n",
    "print(l3[-1][0])\n",
    "print(l3[-1][1])\n",
    "\n",
    "print(l3[-1][-1])\n",
    "print(l3[-1][-2])"
   ]
  },
  {
   "cell_type": "code",
   "execution_count": 34,
   "id": "30ebcd6d-51d3-4009-9cee-314e4c6f02f9",
   "metadata": {},
   "outputs": [
    {
     "name": "stdout",
     "output_type": "stream",
     "text": [
      "[[[1, 2, 3], [4, 5, 6]], [[7, 8, 9], [10, 11, 12]]]\n"
     ]
    }
   ],
   "source": [
    "print(three_d_list)"
   ]
  },
  {
   "cell_type": "code",
   "execution_count": 36,
   "id": "3b30f395-0f8c-4a88-8720-1410ed7dde39",
   "metadata": {},
   "outputs": [
    {
     "name": "stdout",
     "output_type": "stream",
     "text": [
      "10\n",
      "10\n"
     ]
    }
   ],
   "source": [
    "# fetch 10 out of the three_d_list, use square brackets equal to the number of dimensions\n",
    "# outer list has two lists,10 lie in second list,now the second inner list has two lists, \n",
    "#and the desired item lie in second list(put 1),and then 10 lie on zero index of the innermost list\n",
    "# u can use both +ve and -ve indexing\n",
    "\n",
    "print(three_d_list[-1][-1][0])\n",
    "print(three_d_list[1][1][0])\n"
   ]
  },
  {
   "cell_type": "code",
   "execution_count": 38,
   "id": "5eaf58a2-85c4-4d54-b932-4fe05c51a3d6",
   "metadata": {},
   "outputs": [
    {
     "name": "stdout",
     "output_type": "stream",
     "text": [
      "3\n"
     ]
    }
   ],
   "source": [
    "# Acess element 3\n",
    "print(three_d_list[0][0][2])"
   ]
  },
  {
   "cell_type": "code",
   "execution_count": 42,
   "id": "a5006626-28e4-4bf3-b2f2-b2bcff1b2107",
   "metadata": {},
   "outputs": [
    {
     "name": "stdout",
     "output_type": "stream",
     "text": [
      "2948162370752\n"
     ]
    }
   ],
   "source": [
    "l2= [1,\n",
    "     5]\n",
    "l2\n",
    "print(id(l2))"
   ]
  },
  {
   "cell_type": "code",
   "execution_count": 44,
   "id": "19e019a8-a5a5-4b01-ba9a-b85e418088ae",
   "metadata": {},
   "outputs": [
    {
     "name": "stdout",
     "output_type": "stream",
     "text": [
      "[1, 5]\n",
      "[1, 500]\n",
      "2948162370752\n"
     ]
    }
   ],
   "source": [
    "#Edit a list, # lists in pythons are mutable means you can change a list\n",
    "print(l2)\n",
    "# replace 1 with 100\n",
    "l2[-1]=500\n",
    "print(l2)\n",
    "print(id(l2))"
   ]
  },
  {
   "cell_type": "code",
   "execution_count": 46,
   "id": "e26c35f5-fa4a-449d-90b4-6810790ec1a5",
   "metadata": {},
   "outputs": [
    {
     "data": {
      "text/plain": [
       "[1, 500]"
      ]
     },
     "execution_count": 46,
     "metadata": {},
     "output_type": "execute_result"
    }
   ],
   "source": [
    "#Edit list using -ve indexing\n",
    "l2[-1]=500\n",
    "l2"
   ]
  },
  {
   "cell_type": "code",
   "execution_count": 48,
   "id": "9b074750-b409-4742-909c-2a411f857355",
   "metadata": {},
   "outputs": [
    {
     "data": {
      "text/plain": [
       "[1, 500, 300, 400, 500]"
      ]
     },
     "execution_count": 48,
     "metadata": {},
     "output_type": "execute_result"
    }
   ],
   "source": [
    "# Edit list using slicing\n",
    "l2[2:]=[300,400,500]\n",
    "l2"
   ]
  },
  {
   "cell_type": "code",
   "execution_count": 50,
   "id": "61b8dec7-c3c5-4a0b-a538-2116822cd3ea",
   "metadata": {},
   "outputs": [],
   "source": [
    "# how to add new items in a list\n",
    "# three methods for adding items in list: 1.Append() 2. Extend() 3. Insert()\n",
    "# Append and extend both add items at the end of list but append add 1 while extend add multiple items"
   ]
  },
  {
   "cell_type": "code",
   "execution_count": 52,
   "id": "423fadfe-ef99-4882-97c0-d12eccfe8b1f",
   "metadata": {},
   "outputs": [
    {
     "data": {
      "text/plain": [
       "[1, 500, 300, 400, 500]"
      ]
     },
     "execution_count": 52,
     "metadata": {},
     "output_type": "execute_result"
    }
   ],
   "source": [
    "l2"
   ]
  },
  {
   "cell_type": "code",
   "execution_count": 54,
   "id": "147e64ff-d157-4f83-a3ae-8f9d1283a27c",
   "metadata": {},
   "outputs": [
    {
     "name": "stdin",
     "output_type": "stream",
     "text": [
      "enter values 4-2\n",
      "enter values 5\n",
      "enter values 4\n"
     ]
    },
    {
     "name": "stdout",
     "output_type": "stream",
     "text": [
      "[2, 5, 4]\n"
     ]
    }
   ],
   "source": [
    "lst=[]\n",
    "for i in range(3):\n",
    "    value=eval(input('enter values'))\n",
    "    lst.append(value)\n",
    "print(lst)"
   ]
  },
  {
   "cell_type": "code",
   "execution_count": 56,
   "id": "c782b96e-ebe0-4483-870a-86cb76c4a93f",
   "metadata": {},
   "outputs": [
    {
     "name": "stdin",
     "output_type": "stream",
     "text": [
      "enter values 2+3\n",
      "enter values 3\n",
      "enter values 7\n"
     ]
    },
    {
     "name": "stdout",
     "output_type": "stream",
     "text": [
      "[5, 3, 7]\n"
     ]
    }
   ],
   "source": [
    "lst=[]\n",
    "for i in range(3):\n",
    "    value=eval(input('enter values'))\n",
    "    lst.append(value)\n",
    "print(lst)"
   ]
  },
  {
   "cell_type": "code",
   "execution_count": 58,
   "id": "a3c76a58-c250-4ceb-9173-3658d6f116ac",
   "metadata": {},
   "outputs": [
    {
     "name": "stdout",
     "output_type": "stream",
     "text": [
      "5\n"
     ]
    }
   ],
   "source": [
    "s=eval('2+3')\n",
    "print(s)"
   ]
  },
  {
   "cell_type": "code",
   "execution_count": 64,
   "id": "03304278-4a76-41d9-aab1-ebf7fd602f0d",
   "metadata": {},
   "outputs": [
    {
     "name": "stdout",
     "output_type": "stream",
     "text": [
      "1\n"
     ]
    }
   ],
   "source": [
    "t=eval('4-3')\n",
    "print(t)"
   ]
  },
  {
   "cell_type": "code",
   "execution_count": 66,
   "id": "85f51004-0ce4-4fae-a9c7-8c84e6fb33bc",
   "metadata": {},
   "outputs": [
    {
     "data": {
      "text/plain": [
       "[1, 500, 300, 400, 500, 6000]"
      ]
     },
     "execution_count": 66,
     "metadata": {},
     "output_type": "execute_result"
    }
   ],
   "source": [
    "# Append() adds new item (integer, string) at the end of list\n",
    "l2.append(6000)\n",
    "l2"
   ]
  },
  {
   "cell_type": "code",
   "execution_count": 68,
   "id": "1adc0520-c175-40cd-b57f-926a94e60dfa",
   "metadata": {},
   "outputs": [
    {
     "data": {
      "text/plain": [
       "[1, 500, 300, 400, 500, 6000, [7000, 8000]]"
      ]
     },
     "execution_count": 68,
     "metadata": {},
     "output_type": "execute_result"
    }
   ],
   "source": [
    "l2.append([7000,8000])  # here list will be added as a single item\n",
    "l2"
   ]
  },
  {
   "cell_type": "code",
   "execution_count": 74,
   "id": "8c81c411-6a69-48dd-b945-a264d9f8440a",
   "metadata": {},
   "outputs": [
    {
     "data": {
      "text/plain": [
       "[1,\n",
       " 500,\n",
       " 300,\n",
       " 400,\n",
       " 500,\n",
       " 6000,\n",
       " [7000, 8000],\n",
       " 'Ziaullah',\n",
       " 21,\n",
       " 'hangu',\n",
       " 51.5,\n",
       " 'Ziaullah',\n",
       " 21,\n",
       " 'hangu',\n",
       " 51.5,\n",
       " 'Ziaullah',\n",
       " 21,\n",
       " 'hangu',\n",
       " 51.5]"
      ]
     },
     "execution_count": 74,
     "metadata": {},
     "output_type": "execute_result"
    }
   ],
   "source": [
    "l2.extend(['Ziaullah',21, 'hangu',51.5]) #here will added a multiple items\n",
    "l2"
   ]
  },
  {
   "cell_type": "code",
   "execution_count": 76,
   "id": "63291d90-ba15-4b84-836f-a87b1428fc63",
   "metadata": {},
   "outputs": [
    {
     "data": {
      "text/plain": [
       "[1,\n",
       " 500,\n",
       " 300,\n",
       " 400,\n",
       " 500,\n",
       " 6000,\n",
       " [7000, 8000],\n",
       " 'Ziaullah',\n",
       " 21,\n",
       " 'hangu',\n",
       " 51.5,\n",
       " 'Ziaullah',\n",
       " 21,\n",
       " 'hangu',\n",
       " 51.5,\n",
       " 'Ziaullah',\n",
       " 21,\n",
       " 'hangu',\n",
       " 51.5,\n",
       " 7000,\n",
       " 8000,\n",
       " 'Python']"
      ]
     },
     "execution_count": 76,
     "metadata": {},
     "output_type": "execute_result"
    }
   ],
   "source": [
    "# Extend() adds multiple items at the end of list simultaneously\n",
    "l2.extend([7000,8000, 'Python'])\n",
    "l2"
   ]
  },
  {
   "cell_type": "code",
   "execution_count": 78,
   "id": "bb86e24b-e8e2-458e-98b5-94057f8b1430",
   "metadata": {},
   "outputs": [
    {
     "name": "stdout",
     "output_type": "stream",
     "text": [
      "I\n",
      "s\n",
      "l\n",
      "a\n",
      "m\n",
      "i\n",
      "a\n",
      " \n",
      "C\n",
      "o\n",
      "l\n",
      "l\n",
      "g\n",
      "e\n"
     ]
    }
   ],
   "source": [
    "for i in 'Islamia Collge':\n",
    "    print(i)\n"
   ]
  },
  {
   "cell_type": "code",
   "execution_count": 80,
   "id": "dd8f9475-f0f8-41f3-8bef-825ab4089218",
   "metadata": {},
   "outputs": [
    {
     "name": "stdout",
     "output_type": "stream",
     "text": [
      "h\n",
      "e\n",
      "l\n",
      "l\n",
      "o\n"
     ]
    }
   ],
   "source": [
    "for i in \"hello\":\n",
    "    print(i)"
   ]
  },
  {
   "cell_type": "code",
   "execution_count": 82,
   "id": "88844fb6-b00b-4380-85a1-9721f6915b2c",
   "metadata": {},
   "outputs": [],
   "source": [
    "l=[3,4,5,6]\n",
    "l.extend([3,4.6,'python'])"
   ]
  },
  {
   "cell_type": "code",
   "execution_count": 84,
   "id": "b62867cf-f608-4e94-8b5c-31e968a155b6",
   "metadata": {},
   "outputs": [
    {
     "data": {
      "text/plain": [
       "[3, 4, 5, 6, 3, 4.6, 'python']"
      ]
     },
     "execution_count": 84,
     "metadata": {},
     "output_type": "execute_result"
    }
   ],
   "source": [
    "l"
   ]
  },
  {
   "cell_type": "code",
   "execution_count": 86,
   "id": "d338e54e-b419-4920-b07d-d2c3febfc13c",
   "metadata": {},
   "outputs": [],
   "source": [
    "l.append('Java')"
   ]
  },
  {
   "cell_type": "code",
   "execution_count": 88,
   "id": "4cbfa1ce-d318-4ab2-86ab-d317528fdc46",
   "metadata": {},
   "outputs": [
    {
     "data": {
      "text/plain": [
       "[3, 4, 5, 6, 3, 4.6, 'python', 'Java']"
      ]
     },
     "execution_count": 88,
     "metadata": {},
     "output_type": "execute_result"
    }
   ],
   "source": [
    "l"
   ]
  },
  {
   "cell_type": "code",
   "execution_count": 118,
   "id": "e935eb00-177c-4c9a-b582-cdb9552da973",
   "metadata": {},
   "outputs": [
    {
     "data": {
      "text/plain": [
       "[1,\n",
       " 500,\n",
       " 300,\n",
       " 400,\n",
       " 500,\n",
       " 6000,\n",
       " [7000, 8000],\n",
       " 'Ziaullah',\n",
       " 21,\n",
       " 'hangu',\n",
       " 51.5,\n",
       " 'Ziaullah',\n",
       " 21,\n",
       " 'hangu',\n",
       " 51.5,\n",
       " 'Ziaullah',\n",
       " 21,\n",
       " 'hangu',\n",
       " 51.5,\n",
       " 7000,\n",
       " 8000,\n",
       " 'Python',\n",
       " 'h',\n",
       " 'e',\n",
       " 'l',\n",
       " 'l',\n",
       " 'o',\n",
       " 'h',\n",
       " 'e',\n",
       " 'l',\n",
       " 'l',\n",
       " 'o',\n",
       " 'h',\n",
       " 'e',\n",
       " 'l',\n",
       " 'l',\n",
       " 'o',\n",
       " 'h',\n",
       " 'e',\n",
       " 'l',\n",
       " 'l',\n",
       " 'o',\n",
       " 'h',\n",
       " 'e',\n",
       " 'l',\n",
       " 'l',\n",
       " 'o']"
      ]
     },
     "execution_count": 118,
     "metadata": {},
     "output_type": "execute_result"
    }
   ],
   "source": [
    "# first string will be converted into list,then each element of the list will be added individually\n",
    "# extend will also try to add multiple items\n",
    "l2.extend(\"hello\") \n",
    "l2"
   ]
  },
  {
   "cell_type": "code",
   "execution_count": 120,
   "id": "ae345d04-bbb9-494d-ab31-9c79ff424a85",
   "metadata": {},
   "outputs": [
    {
     "name": "stdout",
     "output_type": "stream",
     "text": [
      "[1, 500, 300, 400, 500, 6000, [7000, 8000], 'Ziaullah', 21, 'hangu', 51.5, 'Ziaullah', 21, 'hangu', 51.5, 'Ziaullah', 21, 'hangu', 51.5, 7000, 8000, 'Python', 'h', 'e', 'l', 'l', 'o', 'h', 'e', 'l', 'l', 'o', 'h', 'e', 'l', 'l', 'o', 'h', 'e', 'l', 'l', 'o', 'h', 'e', 'l', 'l', 'o', 'h', 'e', 'l', 'l', 'o']\n"
     ]
    }
   ],
   "source": [
    "# first string will be converted into list,then each element of the list will be added individually\n",
    "# extend will also try to add multiple items\n",
    "l2.extend(\"hello\") \n",
    "print(l2)"
   ]
  },
  {
   "cell_type": "code",
   "execution_count": 108,
   "id": "3b605f10-cca9-4e7a-b4cb-26bc9f9e9027",
   "metadata": {},
   "outputs": [
    {
     "name": "stdout",
     "output_type": "stream",
     "text": [
      "[1, 2, 3, 4, 5, 'k', 'h', 'a', 'n']\n"
     ]
    }
   ],
   "source": [
    "a=[1,2,3,4,5]\n",
    "a.extend('khan')\n",
    "print(a)"
   ]
  },
  {
   "cell_type": "code",
   "execution_count": 110,
   "id": "f474517b-36ed-4c90-bec8-7d4b4eea99d2",
   "metadata": {},
   "outputs": [
    {
     "name": "stdout",
     "output_type": "stream",
     "text": [
      "1 2 3 4 5 k h a n\n"
     ]
    }
   ],
   "source": [
    "a=[1,2,3,4,5]\n",
    "a.extend('khan')\n",
    "print(*a)"
   ]
  },
  {
   "cell_type": "code",
   "execution_count": null,
   "id": "cf44eff5-8707-4334-9690-dcbfefdaafff",
   "metadata": {},
   "outputs": [],
   "source": []
  },
  {
   "cell_type": "code",
   "execution_count": 45,
   "id": "2f8cd0a3-b8e9-4be3-bc93-4b070368667b",
   "metadata": {},
   "outputs": [],
   "source": [
    "# Insert method adds an item at desired index position"
   ]
  },
  {
   "cell_type": "code",
   "execution_count": 122,
   "id": "3fe6e01b-9f40-4925-9660-45d2b5f926e8",
   "metadata": {},
   "outputs": [
    {
     "ename": "TypeError",
     "evalue": "insert expected 2 arguments, got 0",
     "output_type": "error",
     "traceback": [
      "\u001b[1;31m---------------------------------------------------------------------------\u001b[0m",
      "\u001b[1;31mTypeError\u001b[0m                                 Traceback (most recent call last)",
      "Cell \u001b[1;32mIn[122], line 1\u001b[0m\n\u001b[1;32m----> 1\u001b[0m l2\u001b[38;5;241m.\u001b[39minsert()\n",
      "\u001b[1;31mTypeError\u001b[0m: insert expected 2 arguments, got 0"
     ]
    }
   ],
   "source": [
    "l2.insert()"
   ]
  },
  {
   "cell_type": "code",
   "execution_count": 124,
   "id": "2224d6ef-96b4-484a-ac52-ac9df2658a15",
   "metadata": {},
   "outputs": [
    {
     "data": {
      "text/plain": [
       "[1,\n",
       " 'Esa',\n",
       " 500,\n",
       " 300,\n",
       " 400,\n",
       " 500,\n",
       " 6000,\n",
       " [7000, 8000],\n",
       " 'Ziaullah',\n",
       " 21,\n",
       " 'hangu',\n",
       " 51.5,\n",
       " 'Ziaullah',\n",
       " 21,\n",
       " 'hangu',\n",
       " 51.5,\n",
       " 'Ziaullah',\n",
       " 21,\n",
       " 'hangu',\n",
       " 51.5,\n",
       " 7000,\n",
       " 8000,\n",
       " 'Python',\n",
       " 'h',\n",
       " 'e',\n",
       " 'l',\n",
       " 'l',\n",
       " 'o',\n",
       " 'h',\n",
       " 'e',\n",
       " 'l',\n",
       " 'l',\n",
       " 'o',\n",
       " 'h',\n",
       " 'e',\n",
       " 'l',\n",
       " 'l',\n",
       " 'o',\n",
       " 'h',\n",
       " 'e',\n",
       " 'l',\n",
       " 'l',\n",
       " 'o',\n",
       " 'h',\n",
       " 'e',\n",
       " 'l',\n",
       " 'l',\n",
       " 'o',\n",
       " 'h',\n",
       " 'e',\n",
       " 'l',\n",
       " 'l',\n",
       " 'o']"
      ]
     },
     "execution_count": 124,
     "metadata": {},
     "output_type": "execute_result"
    }
   ],
   "source": [
    "l2.insert(1,'Esa')\n",
    "l2"
   ]
  },
  {
   "cell_type": "code",
   "execution_count": 126,
   "id": "7d02d2e8-b84f-468f-99fd-3530226b9978",
   "metadata": {},
   "outputs": [],
   "source": [
    "l2.insert(-1, 'Atiaq')"
   ]
  },
  {
   "cell_type": "code",
   "execution_count": 128,
   "id": "65f76367-901a-4efe-a243-ae6a211ef8a5",
   "metadata": {},
   "outputs": [
    {
     "data": {
      "text/plain": [
       "[1,\n",
       " 'Esa',\n",
       " 500,\n",
       " 300,\n",
       " 400,\n",
       " 500,\n",
       " 6000,\n",
       " [7000, 8000],\n",
       " 'Ziaullah',\n",
       " 21,\n",
       " 'hangu',\n",
       " 51.5,\n",
       " 'Ziaullah',\n",
       " 21,\n",
       " 'hangu',\n",
       " 51.5,\n",
       " 'Ziaullah',\n",
       " 21,\n",
       " 'hangu',\n",
       " 51.5,\n",
       " 7000,\n",
       " 8000,\n",
       " 'Python',\n",
       " 'h',\n",
       " 'e',\n",
       " 'l',\n",
       " 'l',\n",
       " 'o',\n",
       " 'h',\n",
       " 'e',\n",
       " 'l',\n",
       " 'l',\n",
       " 'o',\n",
       " 'h',\n",
       " 'e',\n",
       " 'l',\n",
       " 'l',\n",
       " 'o',\n",
       " 'h',\n",
       " 'e',\n",
       " 'l',\n",
       " 'l',\n",
       " 'o',\n",
       " 'h',\n",
       " 'e',\n",
       " 'l',\n",
       " 'l',\n",
       " 'o',\n",
       " 'h',\n",
       " 'e',\n",
       " 'l',\n",
       " 'l',\n",
       " 'Atiaq',\n",
       " 'o']"
      ]
     },
     "execution_count": 128,
     "metadata": {},
     "output_type": "execute_result"
    }
   ],
   "source": [
    "l2"
   ]
  },
  {
   "cell_type": "code",
   "execution_count": 130,
   "id": "a597ccec-9204-4e80-b1bb-3305a5dd891f",
   "metadata": {},
   "outputs": [
    {
     "data": {
      "text/plain": [
       "[4, 5, 6, 7]"
      ]
     },
     "execution_count": 130,
     "metadata": {},
     "output_type": "execute_result"
    }
   ],
   "source": [
    "lst=[4,5,6,7]\n",
    "lst"
   ]
  },
  {
   "cell_type": "code",
   "execution_count": 132,
   "id": "e89834c6-1454-4dc6-a221-20ca67c23652",
   "metadata": {},
   "outputs": [],
   "source": [
    "lst.insert(-1,'Atiq')"
   ]
  },
  {
   "cell_type": "code",
   "execution_count": 134,
   "id": "d5e31c9f-5400-4ae7-9d59-2b260bbf5937",
   "metadata": {},
   "outputs": [
    {
     "data": {
      "text/plain": [
       "['aslam', 4, 5, 6, 'Atiq', 7]"
      ]
     },
     "execution_count": 134,
     "metadata": {},
     "output_type": "execute_result"
    }
   ],
   "source": [
    "lst.insert(0,'aslam')\n",
    "lst"
   ]
  },
  {
   "cell_type": "code",
   "execution_count": 136,
   "id": "759f3636-cb8d-496d-af89-c2116b09c9a3",
   "metadata": {},
   "outputs": [
    {
     "data": {
      "text/plain": [
       "['aslam', 'Uzair', 4, 5, 6, 'Atiq', 7]"
      ]
     },
     "execution_count": 136,
     "metadata": {},
     "output_type": "execute_result"
    }
   ],
   "source": [
    "lst.insert(1,'Uzair')\n",
    "lst"
   ]
  },
  {
   "cell_type": "code",
   "execution_count": 138,
   "id": "619216d7-32fe-4cbc-be98-f585626cdb89",
   "metadata": {},
   "outputs": [
    {
     "data": {
      "text/plain": [
       "['aslam', 'Uzair', 4, 5, 6, 'Atiq', 7]"
      ]
     },
     "execution_count": 138,
     "metadata": {},
     "output_type": "execute_result"
    }
   ],
   "source": [
    "lst"
   ]
  },
  {
   "cell_type": "markdown",
   "id": "d47b77ad-059e-4ad3-9d9f-c500de4dc603",
   "metadata": {},
   "source": [
    "# 4 ways to delete elements from list\n",
    "1. del keyword 2. remove() 3. pop() 4. clear()"
   ]
  },
  {
   "cell_type": "code",
   "execution_count": null,
   "id": "0e349bc5-cd82-4948-8134-2dc29577891a",
   "metadata": {},
   "outputs": [],
   "source": []
  },
  {
   "cell_type": "code",
   "execution_count": 142,
   "id": "2463368c-34ac-44be-8357-eb18b66e3198",
   "metadata": {},
   "outputs": [
    {
     "data": {
      "text/plain": [
       "[2, 3, 4, [5, 6]]"
      ]
     },
     "execution_count": 142,
     "metadata": {},
     "output_type": "execute_result"
    }
   ],
   "source": [
    "l3"
   ]
  },
  {
   "cell_type": "code",
   "execution_count": 144,
   "id": "2c712393-42fa-4b06-aa43-0289e5507f38",
   "metadata": {},
   "outputs": [],
   "source": [
    "# you can delete the entire list using del keyword\n",
    "l3=l2\n",
    "del l2"
   ]
  },
  {
   "cell_type": "code",
   "execution_count": 146,
   "id": "1d37ba3a-d628-4452-a976-03d7c5ad6511",
   "metadata": {},
   "outputs": [
    {
     "ename": "NameError",
     "evalue": "name 'l2' is not defined",
     "output_type": "error",
     "traceback": [
      "\u001b[1;31m---------------------------------------------------------------------------\u001b[0m",
      "\u001b[1;31mNameError\u001b[0m                                 Traceback (most recent call last)",
      "Cell \u001b[1;32mIn[146], line 1\u001b[0m\n\u001b[1;32m----> 1\u001b[0m l2\n",
      "\u001b[1;31mNameError\u001b[0m: name 'l2' is not defined"
     ]
    }
   ],
   "source": [
    "l2"
   ]
  },
  {
   "cell_type": "code",
   "execution_count": 148,
   "id": "ebcdc7e3-cead-4949-83ac-06772da47420",
   "metadata": {},
   "outputs": [
    {
     "data": {
      "text/plain": [
       "[5, 6, 7, 8]"
      ]
     },
     "execution_count": 148,
     "metadata": {},
     "output_type": "execute_result"
    }
   ],
   "source": [
    "lst=[4,5,6,7,8]\n",
    "del lst[0]\n",
    "lst"
   ]
  },
  {
   "cell_type": "code",
   "execution_count": 150,
   "id": "17d18847-610d-4649-84c8-40017274f9a3",
   "metadata": {},
   "outputs": [
    {
     "data": {
      "text/plain": [
       "[5, 6, 7]"
      ]
     },
     "execution_count": 150,
     "metadata": {},
     "output_type": "execute_result"
    }
   ],
   "source": [
    "del lst[-1]\n",
    "lst"
   ]
  },
  {
   "cell_type": "code",
   "execution_count": 152,
   "id": "030c0690-c70a-4a66-bc25-1d802b1bedc7",
   "metadata": {},
   "outputs": [
    {
     "data": {
      "text/plain": [
       "['Esa',\n",
       " 500,\n",
       " 300,\n",
       " 400,\n",
       " 500,\n",
       " 6000,\n",
       " [7000, 8000],\n",
       " 'Ziaullah',\n",
       " 21,\n",
       " 'hangu',\n",
       " 51.5,\n",
       " 'Ziaullah',\n",
       " 21,\n",
       " 'hangu',\n",
       " 51.5,\n",
       " 'Ziaullah',\n",
       " 21,\n",
       " 'hangu',\n",
       " 51.5,\n",
       " 7000,\n",
       " 8000,\n",
       " 'Python',\n",
       " 'h',\n",
       " 'e',\n",
       " 'l',\n",
       " 'l',\n",
       " 'o',\n",
       " 'h',\n",
       " 'e',\n",
       " 'l',\n",
       " 'l',\n",
       " 'o',\n",
       " 'h',\n",
       " 'e',\n",
       " 'l',\n",
       " 'l',\n",
       " 'o',\n",
       " 'h',\n",
       " 'e',\n",
       " 'l',\n",
       " 'l',\n",
       " 'o',\n",
       " 'h',\n",
       " 'e',\n",
       " 'l',\n",
       " 'l',\n",
       " 'o',\n",
       " 'h',\n",
       " 'e',\n",
       " 'l',\n",
       " 'l',\n",
       " 'Atiaq',\n",
       " 'o']"
      ]
     },
     "execution_count": 152,
     "metadata": {},
     "output_type": "execute_result"
    }
   ],
   "source": [
    "# delete an item from list using +ve and -ve index\n",
    "del l3[0]\n",
    "l3"
   ]
  },
  {
   "cell_type": "code",
   "execution_count": 154,
   "id": "6ec4ba98-6ea2-40f1-af11-2a18f6336f13",
   "metadata": {},
   "outputs": [
    {
     "data": {
      "text/plain": [
       "['Esa',\n",
       " 500,\n",
       " 300,\n",
       " 400,\n",
       " 500,\n",
       " 6000,\n",
       " [7000, 8000],\n",
       " 'Ziaullah',\n",
       " 21,\n",
       " 'hangu',\n",
       " 51.5,\n",
       " 'Ziaullah',\n",
       " 21,\n",
       " 'hangu',\n",
       " 51.5,\n",
       " 'Ziaullah',\n",
       " 21,\n",
       " 'hangu',\n",
       " 51.5,\n",
       " 7000,\n",
       " 8000,\n",
       " 'Python',\n",
       " 'h',\n",
       " 'e',\n",
       " 'l',\n",
       " 'l',\n",
       " 'o',\n",
       " 'h',\n",
       " 'e',\n",
       " 'l',\n",
       " 'l',\n",
       " 'o',\n",
       " 'h',\n",
       " 'e',\n",
       " 'l',\n",
       " 'l',\n",
       " 'o',\n",
       " 'h',\n",
       " 'e',\n",
       " 'l',\n",
       " 'l',\n",
       " 'o',\n",
       " 'h',\n",
       " 'e',\n",
       " 'l',\n",
       " 'l',\n",
       " 'o',\n",
       " 'h',\n",
       " 'e',\n",
       " 'l',\n",
       " 'l',\n",
       " 'Atiaq']"
      ]
     },
     "execution_count": 154,
     "metadata": {},
     "output_type": "execute_result"
    }
   ],
   "source": [
    "del l3[-1] # delete the last item\n",
    "l3"
   ]
  },
  {
   "cell_type": "code",
   "execution_count": 156,
   "id": "63a75ffb-5a99-4745-93b6-738b55ec9b8e",
   "metadata": {},
   "outputs": [
    {
     "data": {
      "text/plain": [
       "['Esa',\n",
       " 500,\n",
       " 300,\n",
       " 400,\n",
       " 500,\n",
       " 6000,\n",
       " [7000, 8000],\n",
       " 'Ziaullah',\n",
       " 21,\n",
       " 'hangu',\n",
       " 51.5,\n",
       " 'Ziaullah',\n",
       " 21,\n",
       " 'hangu',\n",
       " 51.5,\n",
       " 'Ziaullah',\n",
       " 21,\n",
       " 'hangu',\n",
       " 51.5,\n",
       " 7000,\n",
       " 8000,\n",
       " 'Python',\n",
       " 'h',\n",
       " 'e',\n",
       " 'l',\n",
       " 'l',\n",
       " 'o',\n",
       " 'h',\n",
       " 'e',\n",
       " 'l',\n",
       " 'l',\n",
       " 'o',\n",
       " 'h',\n",
       " 'e',\n",
       " 'l',\n",
       " 'l',\n",
       " 'o',\n",
       " 'h',\n",
       " 'e',\n",
       " 'l',\n",
       " 'l',\n",
       " 'o',\n",
       " 'h',\n",
       " 'e',\n",
       " 'l',\n",
       " 'l',\n",
       " 'o',\n",
       " 'h',\n",
       " 'e',\n",
       " 'l',\n",
       " 'l',\n",
       " 'Atiaq']"
      ]
     },
     "execution_count": 156,
     "metadata": {},
     "output_type": "execute_result"
    }
   ],
   "source": [
    "l3"
   ]
  },
  {
   "cell_type": "code",
   "execution_count": 158,
   "id": "dcc7017f-58e3-4ca7-b166-a84a1cd9c220",
   "metadata": {},
   "outputs": [
    {
     "data": {
      "text/plain": [
       "['Esa', 200, 300, 400, 500, 6000, [7000, 8000], 7000, 8000, 'Python']"
      ]
     },
     "execution_count": 158,
     "metadata": {},
     "output_type": "execute_result"
    }
   ],
   "source": [
    "lst8=['Esa', 200, 300, 400, 500, 6000, [7000, 8000], 7000, 8000, 'Python']\n",
    "lst8\n"
   ]
  },
  {
   "cell_type": "code",
   "execution_count": 160,
   "id": "7cdd01ad-3a5c-4a54-9aea-6e949891a56c",
   "metadata": {},
   "outputs": [
    {
     "data": {
      "text/plain": [
       "['Esa', 200, 300, 400, 500, 6000]"
      ]
     },
     "execution_count": 160,
     "metadata": {},
     "output_type": "execute_result"
    }
   ],
   "source": [
    "del lst8[6:]\n",
    "lst8"
   ]
  },
  {
   "cell_type": "code",
   "execution_count": 162,
   "id": "f0d0b148-8b19-4455-a43d-07dc2b1fee9f",
   "metadata": {},
   "outputs": [
    {
     "data": {
      "text/plain": [
       "['Esa',\n",
       " 500,\n",
       " 300,\n",
       " 400,\n",
       " 500,\n",
       " 6000,\n",
       " [7000, 8000],\n",
       " 'Ziaullah',\n",
       " 21,\n",
       " 'hangu',\n",
       " 51.5,\n",
       " 'Ziaullah',\n",
       " 21,\n",
       " 'hangu',\n",
       " 51.5,\n",
       " 'Ziaullah',\n",
       " 21,\n",
       " 'hangu',\n",
       " 51.5,\n",
       " 7000,\n",
       " 8000,\n",
       " 'Python',\n",
       " 'h',\n",
       " 'e',\n",
       " 'l',\n",
       " 'l',\n",
       " 'o',\n",
       " 'h',\n",
       " 'e',\n",
       " 'l',\n",
       " 'l',\n",
       " 'o',\n",
       " 'h',\n",
       " 'e',\n",
       " 'l',\n",
       " 'l',\n",
       " 'o',\n",
       " 'h',\n",
       " 'e',\n",
       " 'l',\n",
       " 'l',\n",
       " 'o',\n",
       " 'h',\n",
       " 'e',\n",
       " 'l',\n",
       " 'l',\n",
       " 'o',\n",
       " 'h']"
      ]
     },
     "execution_count": 162,
     "metadata": {},
     "output_type": "execute_result"
    }
   ],
   "source": [
    "# delete the substring 'hel'\n",
    "del l3[-4:]\n",
    "l3"
   ]
  },
  {
   "cell_type": "code",
   "execution_count": 164,
   "id": "ff0b9433-c115-4987-a7ac-6f1e55ac94ea",
   "metadata": {},
   "outputs": [],
   "source": [
    "del l3[-2]"
   ]
  },
  {
   "cell_type": "code",
   "execution_count": 166,
   "id": "b9c4ca9f-49d2-4634-b468-1a8897310ca5",
   "metadata": {},
   "outputs": [
    {
     "data": {
      "text/plain": [
       "['Esa',\n",
       " 500,\n",
       " 300,\n",
       " 400,\n",
       " 500,\n",
       " 6000,\n",
       " [7000, 8000],\n",
       " 'Ziaullah',\n",
       " 21,\n",
       " 'hangu',\n",
       " 51.5,\n",
       " 'Ziaullah',\n",
       " 21,\n",
       " 'hangu',\n",
       " 51.5,\n",
       " 'Ziaullah',\n",
       " 21,\n",
       " 'hangu',\n",
       " 51.5,\n",
       " 7000,\n",
       " 8000,\n",
       " 'Python',\n",
       " 'h',\n",
       " 'e',\n",
       " 'l',\n",
       " 'l',\n",
       " 'o',\n",
       " 'h',\n",
       " 'e',\n",
       " 'l',\n",
       " 'l',\n",
       " 'o',\n",
       " 'h',\n",
       " 'e',\n",
       " 'l',\n",
       " 'l',\n",
       " 'o',\n",
       " 'h',\n",
       " 'e',\n",
       " 'l',\n",
       " 'l',\n",
       " 'o',\n",
       " 'h',\n",
       " 'e',\n",
       " 'l',\n",
       " 'l',\n",
       " 'h']"
      ]
     },
     "execution_count": 166,
     "metadata": {},
     "output_type": "execute_result"
    }
   ],
   "source": [
    "l3"
   ]
  },
  {
   "cell_type": "code",
   "execution_count": 168,
   "id": "9fe3453c-d919-47b9-bde1-a9656d11e8d9",
   "metadata": {},
   "outputs": [
    {
     "data": {
      "text/plain": [
       "['Esa', 2, 300, 400, 500, 6000, 'Python']"
      ]
     },
     "execution_count": 168,
     "metadata": {},
     "output_type": "execute_result"
    }
   ],
   "source": [
    "lst6=['Esa', 2, 300, 400, 500, 6000, 'Python']\n",
    "lst6\n"
   ]
  },
  {
   "cell_type": "code",
   "execution_count": 170,
   "id": "62e0dc30-ebff-4323-a78f-d91f5f2d0623",
   "metadata": {},
   "outputs": [
    {
     "data": {
      "text/plain": [
       "['Esa', 2, 300, 400, 500, 6000]"
      ]
     },
     "execution_count": 170,
     "metadata": {},
     "output_type": "execute_result"
    }
   ],
   "source": [
    "lst6.remove('Python')\n",
    "lst6"
   ]
  },
  {
   "cell_type": "code",
   "execution_count": 172,
   "id": "fc1e7cfb-305d-4ec1-aa4e-5afc1f6e5a9e",
   "metadata": {},
   "outputs": [
    {
     "data": {
      "text/plain": [
       "['Esa',\n",
       " 500,\n",
       " 300,\n",
       " 500,\n",
       " 6000,\n",
       " [7000, 8000],\n",
       " 'Ziaullah',\n",
       " 21,\n",
       " 'hangu',\n",
       " 51.5,\n",
       " 'Ziaullah',\n",
       " 21,\n",
       " 'hangu',\n",
       " 51.5,\n",
       " 'Ziaullah',\n",
       " 21,\n",
       " 'hangu',\n",
       " 51.5,\n",
       " 7000,\n",
       " 8000,\n",
       " 'Python',\n",
       " 'h',\n",
       " 'e',\n",
       " 'l',\n",
       " 'l',\n",
       " 'o',\n",
       " 'h',\n",
       " 'e',\n",
       " 'l',\n",
       " 'l',\n",
       " 'o',\n",
       " 'h',\n",
       " 'e',\n",
       " 'l',\n",
       " 'l',\n",
       " 'o',\n",
       " 'h',\n",
       " 'e',\n",
       " 'l',\n",
       " 'l',\n",
       " 'o',\n",
       " 'h',\n",
       " 'e',\n",
       " 'l',\n",
       " 'l',\n",
       " 'h']"
      ]
     },
     "execution_count": 172,
     "metadata": {},
     "output_type": "execute_result"
    }
   ],
   "source": [
    "l3.remove(400)\n",
    "l3"
   ]
  },
  {
   "cell_type": "code",
   "execution_count": 174,
   "id": "74989be9-0056-4a92-a622-799b6c34719a",
   "metadata": {},
   "outputs": [
    {
     "data": {
      "text/plain": [
       "['Esa',\n",
       " 500,\n",
       " 300,\n",
       " 500,\n",
       " 6000,\n",
       " [7000, 8000],\n",
       " 'Ziaullah',\n",
       " 21,\n",
       " 'hangu',\n",
       " 51.5,\n",
       " 'Ziaullah',\n",
       " 21,\n",
       " 'hangu',\n",
       " 51.5,\n",
       " 'Ziaullah',\n",
       " 21,\n",
       " 'hangu',\n",
       " 51.5,\n",
       " 7000,\n",
       " 8000,\n",
       " 'h',\n",
       " 'e',\n",
       " 'l',\n",
       " 'l',\n",
       " 'o',\n",
       " 'h',\n",
       " 'e',\n",
       " 'l',\n",
       " 'l',\n",
       " 'o',\n",
       " 'h',\n",
       " 'e',\n",
       " 'l',\n",
       " 'l',\n",
       " 'o',\n",
       " 'h',\n",
       " 'e',\n",
       " 'l',\n",
       " 'l',\n",
       " 'o',\n",
       " 'h',\n",
       " 'e',\n",
       " 'l',\n",
       " 'l',\n",
       " 'h']"
      ]
     },
     "execution_count": 174,
     "metadata": {},
     "output_type": "execute_result"
    }
   ],
   "source": [
    "l3.remove('Python')\n",
    "l3"
   ]
  },
  {
   "cell_type": "code",
   "execution_count": 176,
   "id": "67626df2-caf8-4a42-b836-8b96560e16af",
   "metadata": {},
   "outputs": [
    {
     "name": "stdout",
     "output_type": "stream",
     "text": [
      "[2, 300, 400, 500, 6000]\n"
     ]
    }
   ],
   "source": [
    "if 'Esa' in lst6:\n",
    "    lst6.remove('Esa')\n",
    "    print(lst6)\n",
    "else:\n",
    "    print('NO')"
   ]
  },
  {
   "cell_type": "code",
   "execution_count": 178,
   "id": "3547e51e-4e78-42ea-ad1b-4b1fe5ae4b57",
   "metadata": {},
   "outputs": [
    {
     "data": {
      "text/plain": [
       "['gul wali', 'Said wali', 'asif wali', 'numan wali']"
      ]
     },
     "execution_count": 178,
     "metadata": {},
     "output_type": "execute_result"
    }
   ],
   "source": [
    "z=['gul wali','Said wali','asif wali','numan wali']\n",
    "z\n"
   ]
  },
  {
   "cell_type": "code",
   "execution_count": 180,
   "id": "c6fa11ed-484c-42f9-8f61-b13875a075f5",
   "metadata": {},
   "outputs": [
    {
     "name": "stdout",
     "output_type": "stream",
     "text": [
      "['gul wali', 'Said wali', 'numan wali']\n"
     ]
    }
   ],
   "source": [
    "if 'asif wali' in z:\n",
    "    z.remove('asif wali')\n",
    "    print(z)\n",
    "else:\n",
    "    print('No')"
   ]
  },
  {
   "cell_type": "code",
   "execution_count": 182,
   "id": "1bf880db-ed9b-4601-afd8-edfbc9b61ebf",
   "metadata": {},
   "outputs": [
    {
     "name": "stdout",
     "output_type": "stream",
     "text": [
      "No\n"
     ]
    }
   ],
   "source": [
    "if 'asif wali' in z:\n",
    "    z.remove('asif wali')\n",
    "    print(z)\n",
    "else:\n",
    "    print('No')"
   ]
  },
  {
   "cell_type": "code",
   "execution_count": 184,
   "id": "353c2842-f5fd-4f17-aaa4-8d1006dc9b4c",
   "metadata": {},
   "outputs": [
    {
     "data": {
      "text/plain": [
       "str"
      ]
     },
     "execution_count": 184,
     "metadata": {},
     "output_type": "execute_result"
    }
   ],
   "source": [
    "type(\"2+2\")"
   ]
  },
  {
   "cell_type": "code",
   "execution_count": 188,
   "id": "c3cf2de4-4d9f-4b2e-800f-1f7daf0f93f4",
   "metadata": {},
   "outputs": [
    {
     "name": "stdout",
     "output_type": "stream",
     "text": [
      "['Esa', 500, 300, 500, 6000, [7000, 8000], 'Ziaullah', 21, 'hangu', 51.5, 'Ziaullah', 21, 'hangu', 51.5, 'Ziaullah', 21, 'hangu', 51.5, 7000, 8000, 'h', 'e', 'l', 'l', 'o', 'h', 'e', 'l', 'l', 'o', 'h', 'e', 'l', 'l', 'o', 'h', 'e', 'l', 'l', 'o', 'h', 'e', 'l', 'l', 'h']\n"
     ]
    }
   ],
   "source": [
    "# knowing that item exists in the list, but i don't lnow its index position, use remove in this case\n",
    "if 'Python' in l3:\n",
    "    l3.remove('Python')\n",
    "print(l3)"
   ]
  },
  {
   "cell_type": "code",
   "execution_count": 190,
   "id": "1e3137fd-b119-4bbe-94f3-b41c9bfad839",
   "metadata": {},
   "outputs": [
    {
     "data": {
      "text/plain": [
       "[4, 5, 6, 7, 7, 8, 9, 0]"
      ]
     },
     "execution_count": 190,
     "metadata": {},
     "output_type": "execute_result"
    }
   ],
   "source": [
    "l2=[4,5,6,7,7,8,9,0]\n",
    "l2"
   ]
  },
  {
   "cell_type": "code",
   "execution_count": 192,
   "id": "d6a26c9e-fc97-4232-9c6d-2a9b01d4f97d",
   "metadata": {},
   "outputs": [
    {
     "data": {
      "text/plain": [
       "[4, 5, 6, 7, 8, 9, 0]"
      ]
     },
     "execution_count": 192,
     "metadata": {},
     "output_type": "execute_result"
    }
   ],
   "source": [
    "l2.pop(3)\n",
    "l2"
   ]
  },
  {
   "cell_type": "code",
   "execution_count": 194,
   "id": "521ae1a6-5f3a-4bd5-b8bc-3cb4712a8d52",
   "metadata": {},
   "outputs": [
    {
     "data": {
      "text/plain": [
       "7"
      ]
     },
     "execution_count": 194,
     "metadata": {},
     "output_type": "execute_result"
    }
   ],
   "source": [
    "#pop() removes the element at a given position and return the element \n",
    "#pop() deletes the last item in the list and return it, if the position is not specified\n",
    "l2.pop(3)"
   ]
  },
  {
   "cell_type": "code",
   "execution_count": 196,
   "id": "a182a0b7-e1db-4ed5-8de4-913c53e80441",
   "metadata": {},
   "outputs": [
    {
     "data": {
      "text/plain": [
       "[4, 5, 6, 8, 9, 0]"
      ]
     },
     "execution_count": 196,
     "metadata": {},
     "output_type": "execute_result"
    }
   ],
   "source": [
    "l2"
   ]
  },
  {
   "cell_type": "code",
   "execution_count": 198,
   "id": "816d67c7-2cc1-433d-b0c9-2be84549a8e7",
   "metadata": {},
   "outputs": [
    {
     "data": {
      "text/plain": [
       "[4, 5, 6, 8, 9, 0]"
      ]
     },
     "execution_count": 198,
     "metadata": {},
     "output_type": "execute_result"
    }
   ],
   "source": [
    "l2"
   ]
  },
  {
   "cell_type": "code",
   "execution_count": 200,
   "id": "e7192683-7fc8-4a43-8432-e5aa2371ddcb",
   "metadata": {},
   "outputs": [],
   "source": [
    "lst10=[3,4,5,6,7]"
   ]
  },
  {
   "cell_type": "code",
   "execution_count": 202,
   "id": "fbb3bc7b-d747-4063-951f-7eb7a1885f91",
   "metadata": {},
   "outputs": [
    {
     "data": {
      "text/plain": [
       "7"
      ]
     },
     "execution_count": 202,
     "metadata": {},
     "output_type": "execute_result"
    }
   ],
   "source": [
    "lst10.pop()"
   ]
  },
  {
   "cell_type": "code",
   "execution_count": 204,
   "id": "505d5539-472e-4bf0-9aa7-208202a8cf35",
   "metadata": {},
   "outputs": [
    {
     "data": {
      "text/plain": [
       "[1, 2, 3, 4, 5]"
      ]
     },
     "execution_count": 204,
     "metadata": {},
     "output_type": "execute_result"
    }
   ],
   "source": [
    "y=[1,2,3,4,5]\n",
    "y"
   ]
  },
  {
   "cell_type": "code",
   "execution_count": 206,
   "id": "81e5f02d-950b-44bb-9cbf-d1b479ff4f1c",
   "metadata": {},
   "outputs": [
    {
     "data": {
      "text/plain": [
       "[1, 2, 4, 5]"
      ]
     },
     "execution_count": 206,
     "metadata": {},
     "output_type": "execute_result"
    }
   ],
   "source": [
    "y.pop(2)\n",
    "y"
   ]
  },
  {
   "cell_type": "code",
   "execution_count": 208,
   "id": "e705b7d5-1b56-479d-8453-20d5492ea3e4",
   "metadata": {},
   "outputs": [
    {
     "data": {
      "text/plain": [
       "5"
      ]
     },
     "execution_count": 208,
     "metadata": {},
     "output_type": "execute_result"
    }
   ],
   "source": [
    "y.pop() # it means that if you don't give the index number , it delete the last itself , which is her '5'"
   ]
  },
  {
   "cell_type": "code",
   "execution_count": 210,
   "id": "2e782432-78fc-4bf6-ada4-583da6cab9c2",
   "metadata": {},
   "outputs": [
    {
     "data": {
      "text/plain": [
       "[1, 2, 4]"
      ]
     },
     "execution_count": 210,
     "metadata": {},
     "output_type": "execute_result"
    }
   ],
   "source": [
    "y"
   ]
  },
  {
   "cell_type": "code",
   "execution_count": 212,
   "id": "7fd40be2-07ba-4045-b9d8-5d7c65069922",
   "metadata": {},
   "outputs": [
    {
     "data": {
      "text/plain": [
       "['Esa',\n",
       " 500,\n",
       " 300,\n",
       " 500,\n",
       " 6000,\n",
       " [7000, 8000],\n",
       " 'Ziaullah',\n",
       " 21,\n",
       " 'hangu',\n",
       " 51.5,\n",
       " 'Ziaullah',\n",
       " 21,\n",
       " 'hangu',\n",
       " 51.5,\n",
       " 'Ziaullah',\n",
       " 21,\n",
       " 'hangu',\n",
       " 51.5,\n",
       " 7000,\n",
       " 8000,\n",
       " 'h',\n",
       " 'e',\n",
       " 'l',\n",
       " 'l',\n",
       " 'o',\n",
       " 'h',\n",
       " 'e',\n",
       " 'l',\n",
       " 'l',\n",
       " 'o',\n",
       " 'h',\n",
       " 'e',\n",
       " 'l',\n",
       " 'l',\n",
       " 'o',\n",
       " 'h',\n",
       " 'e',\n",
       " 'l',\n",
       " 'l',\n",
       " 'o',\n",
       " 'h',\n",
       " 'e',\n",
       " 'l',\n",
       " 'l',\n",
       " 'h']"
      ]
     },
     "execution_count": 212,
     "metadata": {},
     "output_type": "execute_result"
    }
   ],
   "source": [
    "l3"
   ]
  },
  {
   "cell_type": "code",
   "execution_count": 214,
   "id": "a5f74df0-8491-49ee-b8ed-e9850735035a",
   "metadata": {},
   "outputs": [
    {
     "data": {
      "text/plain": [
       "'h'"
      ]
     },
     "execution_count": 214,
     "metadata": {},
     "output_type": "execute_result"
    }
   ],
   "source": [
    "l3.pop()"
   ]
  },
  {
   "cell_type": "code",
   "execution_count": 216,
   "id": "0f13b010-9595-46d0-a39d-526154a7fcd4",
   "metadata": {},
   "outputs": [
    {
     "data": {
      "text/plain": [
       "[]"
      ]
     },
     "execution_count": 216,
     "metadata": {},
     "output_type": "execute_result"
    }
   ],
   "source": [
    "#clear does not delete the list but it will emptied the list\n",
    "l3.clear()\n",
    "l3"
   ]
  },
  {
   "cell_type": "code",
   "execution_count": 218,
   "id": "661c3dc1-e037-430a-aab0-a69e4e7a289d",
   "metadata": {},
   "outputs": [
    {
     "data": {
      "text/plain": [
       "[2, 3, 4, 5]"
      ]
     },
     "execution_count": 218,
     "metadata": {},
     "output_type": "execute_result"
    }
   ],
   "source": [
    "empty=[2,3,4,5]\n",
    "empty"
   ]
  },
  {
   "cell_type": "code",
   "execution_count": 222,
   "id": "295eb68e-8393-43b6-ad04-f9a70e27f21e",
   "metadata": {},
   "outputs": [
    {
     "data": {
      "text/plain": [
       "[]"
      ]
     },
     "execution_count": 222,
     "metadata": {},
     "output_type": "execute_result"
    }
   ],
   "source": [
    "empty.clear()\n",
    "empty"
   ]
  },
  {
   "cell_type": "code",
   "execution_count": 224,
   "id": "210d6f4a-a255-4333-b3fe-6ff95977216f",
   "metadata": {},
   "outputs": [
    {
     "data": {
      "text/plain": [
       "[1, 2, 3, 4, 3, 4, 5, 6, 7, 7, 5]"
      ]
     },
     "execution_count": 224,
     "metadata": {},
     "output_type": "execute_result"
    }
   ],
   "source": [
    "#operations on list: 4 major operations: 1. concatenation 2. Multipication 3. loop 4. in operator\n",
    "l1=[1,2,3,4,3]\n",
    "l2=[4,5,6,7,7,5]\n",
    "l3=l1+l2  # new list will be formed after concatenation\n",
    "l3"
   ]
  },
  {
   "cell_type": "code",
   "execution_count": 228,
   "id": "5b142eaa-b8e0-46ec-b91b-528750ad0a72",
   "metadata": {},
   "outputs": [
    {
     "data": {
      "text/plain": [
       "2"
      ]
     },
     "execution_count": 228,
     "metadata": {},
     "output_type": "execute_result"
    }
   ],
   "source": [
    "l3.count(4)"
   ]
  },
  {
   "cell_type": "code",
   "execution_count": 232,
   "id": "5843729f-fef0-4705-a449-7995b909e188",
   "metadata": {},
   "outputs": [
    {
     "data": {
      "text/plain": [
       "[1, 3, 4, 5, 5, 6, 7, 8, 3]"
      ]
     },
     "execution_count": 232,
     "metadata": {},
     "output_type": "execute_result"
    }
   ],
   "source": [
    "x=[1,3,4,5]\n",
    "w=[5,6,7,8,3]\n",
    "v=x+w\n",
    "v"
   ]
  },
  {
   "cell_type": "code",
   "execution_count": 238,
   "id": "49a9edf7-4dec-4c70-95b3-db78093a606b",
   "metadata": {},
   "outputs": [
    {
     "data": {
      "text/plain": [
       "2"
      ]
     },
     "execution_count": 238,
     "metadata": {},
     "output_type": "execute_result"
    }
   ],
   "source": [
    "v.count(5) # it will count the how many time any value comes in the list , here 5 comes 2 times in the list"
   ]
  },
  {
   "cell_type": "code",
   "execution_count": 258,
   "id": "32454d46-4673-4b5d-803d-308014cef164",
   "metadata": {},
   "outputs": [
    {
     "data": {
      "text/plain": [
       "['pythonpython', 'p', 'y', 'p']"
      ]
     },
     "execution_count": 258,
     "metadata": {},
     "output_type": "execute_result"
    }
   ],
   "source": [
    "yy=['pythonpython','p','y','p']\n",
    "yy"
   ]
  },
  {
   "cell_type": "code",
   "execution_count": 262,
   "id": "1af79763-dd0f-4ee6-a3c1-42e514bdbb39",
   "metadata": {},
   "outputs": [
    {
     "data": {
      "text/plain": [
       "2"
      ]
     },
     "execution_count": 262,
     "metadata": {},
     "output_type": "execute_result"
    }
   ],
   "source": [
    "yy.count('p')"
   ]
  },
  {
   "cell_type": "code",
   "execution_count": 280,
   "id": "7050227f-8a7e-490d-a099-849c0e708c13",
   "metadata": {},
   "outputs": [
    {
     "name": "stdout",
     "output_type": "stream",
     "text": [
      "p\n",
      "y\n",
      "t\n",
      "h\n",
      "o\n",
      "n\n"
     ]
    }
   ],
   "source": [
    "for i in 'python':\n",
    "    print(i)"
   ]
  },
  {
   "cell_type": "code",
   "execution_count": 284,
   "id": "b65e37ac-76e4-4257-9df8-ce0d9f5b85cf",
   "metadata": {},
   "outputs": [
    {
     "data": {
      "text/plain": [
       "0"
      ]
     },
     "execution_count": 284,
     "metadata": {},
     "output_type": "execute_result"
    }
   ],
   "source": []
  },
  {
   "cell_type": "code",
   "execution_count": 286,
   "id": "4261532c-7927-42a8-8d25-db120358bbb6",
   "metadata": {},
   "outputs": [
    {
     "name": "stdout",
     "output_type": "stream",
     "text": [
      "1 appears 1 times\n",
      "2 appears 1 times\n",
      "3 appears 2 times\n",
      "4 appears 2 times\n",
      "5 appears 2 times\n",
      "6 appears 1 times\n",
      "7 appears 2 times\n"
     ]
    }
   ],
   "source": [
    "# count() returns the number of times an element x appears in the list\n",
    "#l3.count(4)\n",
    "result=[]\n",
    "for i in l3:\n",
    " if i not in result:\n",
    "     result.append(i)\n",
    "     print(f\"{i} appears {l3.count(i)} times\")"
   ]
  },
  {
   "cell_type": "code",
   "execution_count": 290,
   "id": "96f6aa3d-1dfe-4929-8ae8-0e3932aa9ad8",
   "metadata": {},
   "outputs": [
    {
     "name": "stdout",
     "output_type": "stream",
     "text": [
      "pythonpython appears 1 times\n",
      "p appears 2 times\n",
      "y appears 1 times\n"
     ]
    }
   ],
   "source": [
    "result=[]\n",
    "for i in yy:\n",
    " if i not in result:\n",
    "    result.append(i)\n",
    "    print(f'{i} appears {yy.count(i)} times')\n"
   ]
  },
  {
   "cell_type": "code",
   "execution_count": 294,
   "id": "7e979587-30de-4972-8e50-47c54ccfcc12",
   "metadata": {},
   "outputs": [
    {
     "name": "stdout",
     "output_type": "stream",
     "text": [
      "1 appears 1 times\n",
      "2 appears 1 times\n",
      "3 appears 1 times\n",
      "4 appears 2 times\n",
      "5 appears 3 times\n"
     ]
    }
   ],
   "source": [
    "q=[1,2,3,4,4,5,5,5]\n",
    "result=[]\n",
    "for i in q:\n",
    "    if i not in result:\n",
    "        result.append(i)\n",
    "        print(f'{i} appears {q.count(i)} times')"
   ]
  },
  {
   "cell_type": "code",
   "execution_count": 298,
   "id": "9e595d8c-6af0-4f39-b650-0637779a703c",
   "metadata": {},
   "outputs": [
    {
     "name": "stdout",
     "output_type": "stream",
     "text": [
      "urdu appears 2 times\n",
      "english appears 2 times\n",
      "math appears 2 times\n",
      "physics appears 1 times\n"
     ]
    }
   ],
   "source": [
    "books=['urdu','english','math','urdu','math','english','physics']\n",
    "result=[]\n",
    "for i in books:\n",
    "    if i not in result:\n",
    "        result.append(i)\n",
    "        print(f'{i} appears {books.count(i)} times')"
   ]
  },
  {
   "cell_type": "code",
   "execution_count": 300,
   "id": "60e6c6ae-0dc9-48b9-9757-ac89562b3eab",
   "metadata": {},
   "outputs": [
    {
     "data": {
      "text/plain": [
       "[1, 2, 3, 4, 3, 1, 2, 3, 4, 3, 1, 2, 3, 4, 3]"
      ]
     },
     "execution_count": 300,
     "metadata": {},
     "output_type": "execute_result"
    }
   ],
   "source": [
    "#Multiplying a Python list by an integer extends the list by repeating its elements\n",
    "#a certain number of times. \n",
    "# L * 3, it will concatenate three copies of the list together, resulting in a new list\n",
    "l1*3"
   ]
  },
  {
   "cell_type": "code",
   "execution_count": 304,
   "id": "6d5b4c8e-6a01-468e-b236-51d32ecde3d5",
   "metadata": {},
   "outputs": [
    {
     "data": {
      "text/plain": [
       "[4, 5, 6, 4, 5, 6]"
      ]
     },
     "execution_count": 304,
     "metadata": {},
     "output_type": "execute_result"
    }
   ],
   "source": [
    "l4=[4,5,6]\n",
    "l4=l4*2 # it print the list 2 times but in one list , [4,5,6]+[4,5,6]\n",
    "l4"
   ]
  },
  {
   "cell_type": "code",
   "execution_count": 316,
   "id": "13eaf2ca-a5fb-4047-b183-845ea9117fcd",
   "metadata": {},
   "outputs": [
    {
     "data": {
      "text/plain": [
       "['pak', 'kpk', 'pesh', 'pak', 'kpk', 'pesh']"
      ]
     },
     "execution_count": 316,
     "metadata": {},
     "output_type": "execute_result"
    }
   ],
   "source": [
    "aa=['pak','kpk','pesh']\n",
    "aa=aa*2\n",
    "aa"
   ]
  },
  {
   "cell_type": "code",
   "execution_count": 308,
   "id": "e6f53aef-1d31-4317-9f89-d07bc4a707a0",
   "metadata": {},
   "outputs": [
    {
     "name": "stdout",
     "output_type": "stream",
     "text": [
      "4\n",
      "5\n",
      "6\n",
      "4\n",
      "5\n",
      "6\n"
     ]
    }
   ],
   "source": [
    "# loop on list\n",
    "for i in l4:\n",
    " print(i)"
   ]
  },
  {
   "cell_type": "code",
   "execution_count": 320,
   "id": "af0a36f4-9d28-45e1-8fa8-38fecb81d055",
   "metadata": {},
   "outputs": [
    {
     "name": "stdout",
     "output_type": "stream",
     "text": [
      "['pak', 'kpk', 'pesh', 'pak', 'kpk', 'pesh']\n",
      "['pak', 'kpk', 'pesh', 'pak', 'kpk', 'pesh']\n",
      "['pak', 'kpk', 'pesh', 'pak', 'kpk', 'pesh']\n",
      "['pak', 'kpk', 'pesh', 'pak', 'kpk', 'pesh']\n",
      "['pak', 'kpk', 'pesh', 'pak', 'kpk', 'pesh']\n",
      "['pak', 'kpk', 'pesh', 'pak', 'kpk', 'pesh']\n"
     ]
    }
   ],
   "source": [
    "aa=['pak','kpk','pesh']\n",
    "for i in aa: # it print the itme according list have , for exmple if a list have 3 items it will multply by 2 , so 3*2=6 ,it print list 6 times\n",
    " print(aa)"
   ]
  },
  {
   "cell_type": "code",
   "execution_count": 324,
   "id": "75354959-0e15-43fc-bf36-e94b6335dfab",
   "metadata": {},
   "outputs": [
    {
     "name": "stdout",
     "output_type": "stream",
     "text": [
      "pak\n",
      "kpk\n",
      "pesh\n",
      "pak\n",
      "kpk\n",
      "pesh\n"
     ]
    }
   ],
   "source": [
    "for i in aa:\n",
    " print(i)"
   ]
  },
  {
   "cell_type": "code",
   "execution_count": 326,
   "id": "cc4ab3e8-e866-4ee8-943f-73ccb5c735b5",
   "metadata": {},
   "outputs": [
    {
     "name": "stdout",
     "output_type": "stream",
     "text": [
      "1\n",
      "2\n",
      "3\n",
      "4\n"
     ]
    }
   ],
   "source": [
    "count=[1,2,3,4]\n",
    "for i in count:\n",
    "    print(i)"
   ]
  },
  {
   "cell_type": "code",
   "execution_count": 328,
   "id": "daa423f9-acaa-4035-8af9-fb2f60f0df82",
   "metadata": {},
   "outputs": [
    {
     "name": "stdout",
     "output_type": "stream",
     "text": [
      "4\n",
      "5\n",
      "6\n",
      "7\n"
     ]
    }
   ],
   "source": [
    "for j in [4,5,6,7]:\n",
    "    print(j)"
   ]
  },
  {
   "cell_type": "code",
   "execution_count": 330,
   "id": "32cd8aa2-144a-42ba-99c9-6460d4d676c7",
   "metadata": {},
   "outputs": [
    {
     "data": {
      "text/plain": [
       "[1, 2, 3, [4, 5]]"
      ]
     },
     "execution_count": 330,
     "metadata": {},
     "output_type": "execute_result"
    }
   ],
   "source": [
    "l2=[1,2,3,[4,5]]\n",
    "l2"
   ]
  },
  {
   "cell_type": "code",
   "execution_count": 332,
   "id": "b5a8ab10-d797-46a7-ba5c-42fb05770011",
   "metadata": {},
   "outputs": [
    {
     "name": "stdout",
     "output_type": "stream",
     "text": [
      "1\n",
      "2\n",
      "3\n",
      "[4, 5]\n"
     ]
    }
   ],
   "source": [
    "for i  in l2:\n",
    "    print(i)"
   ]
  },
  {
   "cell_type": "code",
   "execution_count": 336,
   "id": "a6403706-f9b8-48fd-9f3a-c08ceb155207",
   "metadata": {},
   "outputs": [
    {
     "data": {
      "text/plain": [
       "False"
      ]
     },
     "execution_count": 336,
     "metadata": {},
     "output_type": "execute_result"
    }
   ],
   "source": [
    "# membership operator 'in'\n",
    "4 in l2"
   ]
  },
  {
   "cell_type": "code",
   "execution_count": 342,
   "id": "0f655f6b-8406-47e7-8080-2d86c220568c",
   "metadata": {},
   "outputs": [
    {
     "data": {
      "text/plain": [
       "True"
      ]
     },
     "execution_count": 342,
     "metadata": {},
     "output_type": "execute_result"
    }
   ],
   "source": [
    "count=[1,2,3,4]\n",
    "3 in count\n"
   ]
  },
  {
   "cell_type": "code",
   "execution_count": 346,
   "id": "041dc7b8-fca6-4e4d-9b6a-f3852a86d569",
   "metadata": {},
   "outputs": [
    {
     "name": "stdout",
     "output_type": "stream",
     "text": [
      "True\n"
     ]
    }
   ],
   "source": [
    "ls=[4,6,7,8,9]\n",
    "if 7 in ls:\n",
    "   print(True)\n",
    "else:\n",
    "    print(False)"
   ]
  },
  {
   "cell_type": "code",
   "execution_count": 352,
   "id": "77c789d1-6df1-4d88-8b8a-39845b0f883e",
   "metadata": {},
   "outputs": [
    {
     "name": "stdout",
     "output_type": "stream",
     "text": [
      "True\n"
     ]
    }
   ],
   "source": [
    "count=[1,2,3,4]\n",
    "if 4 in count:\n",
    "    print('True')\n",
    "else:\n",
    "    print(\"False\")"
   ]
  },
  {
   "cell_type": "code",
   "execution_count": 354,
   "id": "47a1249c-b0dd-4acc-a993-d2dbdb4a7391",
   "metadata": {},
   "outputs": [
    {
     "data": {
      "text/plain": [
       "[4, 6, 7, 8, 9, [4, 5], [4, 5]]"
      ]
     },
     "execution_count": 354,
     "metadata": {},
     "output_type": "execute_result"
    }
   ],
   "source": [
    "ls.append([4,5])\n",
    "ls"
   ]
  },
  {
   "cell_type": "code",
   "execution_count": 358,
   "id": "006eb8ef-f723-422b-9407-087ebb6f09db",
   "metadata": {},
   "outputs": [
    {
     "data": {
      "text/plain": [
       "[1, 2, 3, 4, [4, 5], [4, 5]]"
      ]
     },
     "execution_count": 358,
     "metadata": {},
     "output_type": "execute_result"
    }
   ],
   "source": [
    "count.append([4,5])\n",
    "count"
   ]
  },
  {
   "cell_type": "code",
   "execution_count": 360,
   "id": "f5838e94-ffd4-4fab-b073-a2ba03200201",
   "metadata": {},
   "outputs": [
    {
     "data": {
      "text/plain": [
       "False"
      ]
     },
     "execution_count": 360,
     "metadata": {},
     "output_type": "execute_result"
    }
   ],
   "source": [
    "[4,6] in ls"
   ]
  },
  {
   "cell_type": "code",
   "execution_count": 366,
   "id": "db5bb9f7-65d4-43c8-b4cb-97d0516fb2a9",
   "metadata": {},
   "outputs": [
    {
     "data": {
      "text/plain": [
       "True"
      ]
     },
     "execution_count": 366,
     "metadata": {},
     "output_type": "execute_result"
    }
   ],
   "source": [
    "[4,5] in count"
   ]
  },
  {
   "cell_type": "code",
   "execution_count": 368,
   "id": "c82e576b-74c5-43f7-b37f-4ba6654836c9",
   "metadata": {},
   "outputs": [
    {
     "data": {
      "text/plain": [
       "True"
      ]
     },
     "execution_count": 368,
     "metadata": {},
     "output_type": "execute_result"
    }
   ],
   "source": [
    "2 in l2"
   ]
  },
  {
   "cell_type": "code",
   "execution_count": 370,
   "id": "e5d49650-a1d3-4b9d-8bdb-5b6cdc02aafd",
   "metadata": {},
   "outputs": [
    {
     "data": {
      "text/plain": [
       "True"
      ]
     },
     "execution_count": 370,
     "metadata": {},
     "output_type": "execute_result"
    }
   ],
   "source": [
    "[4, 5] in l2"
   ]
  },
  {
   "cell_type": "code",
   "execution_count": 372,
   "id": "d601d065-9f53-4ff0-bc9d-7b8a7e7b5138",
   "metadata": {},
   "outputs": [
    {
     "ename": "TypeError",
     "evalue": "'>' not supported between instances of 'list' and 'int'",
     "output_type": "error",
     "traceback": [
      "\u001b[1;31m---------------------------------------------------------------------------\u001b[0m",
      "\u001b[1;31mTypeError\u001b[0m                                 Traceback (most recent call last)",
      "Cell \u001b[1;32mIn[372], line 2\u001b[0m\n\u001b[0;32m      1\u001b[0m l1\u001b[38;5;241m=\u001b[39m[\u001b[38;5;241m4\u001b[39m,\u001b[38;5;241m5\u001b[39m,\u001b[38;5;241m6\u001b[39m,\u001b[38;5;241m7\u001b[39m, [\u001b[38;5;241m7\u001b[39m,\u001b[38;5;241m9\u001b[39m]]\n\u001b[1;32m----> 2\u001b[0m \u001b[38;5;28mmax\u001b[39m(l1)\n",
      "\u001b[1;31mTypeError\u001b[0m: '>' not supported between instances of 'list' and 'int'"
     ]
    }
   ],
   "source": [
    "l1=[4,5,6,7, [7,9]]\n",
    "max(l1)"
   ]
  },
  {
   "cell_type": "code",
   "execution_count": 374,
   "id": "8fc3fe7a-dfd1-4d7e-8c28-11bcccda7888",
   "metadata": {},
   "outputs": [],
   "source": [
    "# Functions available for list\n",
    "l1=[4,5,6,7,2,3]\n"
   ]
  },
  {
   "cell_type": "code",
   "execution_count": 376,
   "id": "b43531d0-d7cf-4741-ab20-c0232cdf5f5f",
   "metadata": {},
   "outputs": [
    {
     "data": {
      "text/plain": [
       "6"
      ]
     },
     "execution_count": 376,
     "metadata": {},
     "output_type": "execute_result"
    }
   ],
   "source": [
    "len(l1) # number of items in list"
   ]
  },
  {
   "cell_type": "code",
   "execution_count": 378,
   "id": "4230ccfe-bf44-48a1-bbdf-931be6a49035",
   "metadata": {},
   "outputs": [
    {
     "data": {
      "text/plain": [
       "2"
      ]
     },
     "execution_count": 378,
     "metadata": {},
     "output_type": "execute_result"
    }
   ],
   "source": [
    "min(l1) # needs numeric list"
   ]
  },
  {
   "cell_type": "code",
   "execution_count": 380,
   "id": "3606c4ea-5bc6-4424-9f6e-e3be6386fe95",
   "metadata": {},
   "outputs": [
    {
     "data": {
      "text/plain": [
       "7"
      ]
     },
     "execution_count": 380,
     "metadata": {},
     "output_type": "execute_result"
    }
   ],
   "source": [
    "max(l1)"
   ]
  },
  {
   "cell_type": "code",
   "execution_count": 382,
   "id": "a5b57bf3-c3a6-4b7e-a799-1c3b0e33ca4a",
   "metadata": {},
   "outputs": [
    {
     "data": {
      "text/plain": [
       "27"
      ]
     },
     "execution_count": 382,
     "metadata": {},
     "output_type": "execute_result"
    }
   ],
   "source": [
    "sum(l1)"
   ]
  },
  {
   "cell_type": "code",
   "execution_count": 386,
   "id": "fbc59268-1f0c-4524-92f8-d7f7e5b471cd",
   "metadata": {},
   "outputs": [
    {
     "data": {
      "text/plain": [
       "[2, 3, 4, 5, 6, 7]"
      ]
     },
     "execution_count": 386,
     "metadata": {},
     "output_type": "execute_result"
    }
   ],
   "source": [
    "sorted(l1)"
   ]
  },
  {
   "cell_type": "code",
   "execution_count": 390,
   "id": "f3ed1df7-23e3-4de1-b3d2-885cce5ab1dc",
   "metadata": {},
   "outputs": [
    {
     "data": {
      "text/plain": [
       "[4, 5, 6, 7, 8]"
      ]
     },
     "execution_count": 390,
     "metadata": {},
     "output_type": "execute_result"
    }
   ],
   "source": [
    "zz=[4,5,6,7,8]\n",
    "zz\n"
   ]
  },
  {
   "cell_type": "code",
   "execution_count": 394,
   "id": "7089f0c5-9ca9-45d3-92ce-fb780cad1df9",
   "metadata": {},
   "outputs": [
    {
     "data": {
      "text/plain": [
       "5"
      ]
     },
     "execution_count": 394,
     "metadata": {},
     "output_type": "execute_result"
    }
   ],
   "source": [
    "len(zz)"
   ]
  },
  {
   "cell_type": "code",
   "execution_count": 396,
   "id": "e27db541-f069-484e-a6b3-2f261011ebf5",
   "metadata": {},
   "outputs": [
    {
     "data": {
      "text/plain": [
       "8"
      ]
     },
     "execution_count": 396,
     "metadata": {},
     "output_type": "execute_result"
    }
   ],
   "source": [
    "max(zz)"
   ]
  },
  {
   "cell_type": "code",
   "execution_count": 398,
   "id": "4e320d75-0a3a-4fb3-bc5b-34a10eded825",
   "metadata": {},
   "outputs": [
    {
     "data": {
      "text/plain": [
       "4"
      ]
     },
     "execution_count": 398,
     "metadata": {},
     "output_type": "execute_result"
    }
   ],
   "source": [
    "min(zz)"
   ]
  },
  {
   "cell_type": "code",
   "execution_count": 402,
   "id": "e61cc188-7318-407c-8f2e-448665d5d59d",
   "metadata": {},
   "outputs": [
    {
     "data": {
      "text/plain": [
       "30"
      ]
     },
     "execution_count": 402,
     "metadata": {},
     "output_type": "execute_result"
    }
   ],
   "source": [
    "sum(zz)"
   ]
  },
  {
   "cell_type": "code",
   "execution_count": 404,
   "id": "a1f3a13a-aaba-4d7d-a61f-0ac4beaeda1f",
   "metadata": {},
   "outputs": [
    {
     "data": {
      "text/plain": [
       "[4, 5, 6, 7, 8]"
      ]
     },
     "execution_count": 404,
     "metadata": {},
     "output_type": "execute_result"
    }
   ],
   "source": [
    "sorted(zz)"
   ]
  },
  {
   "cell_type": "code",
   "execution_count": 406,
   "id": "d19bd91e-9ba7-41a7-b836-e0db30c8024d",
   "metadata": {},
   "outputs": [
    {
     "data": {
      "text/plain": [
       "[8, 7, 6, 5, 4]"
      ]
     },
     "execution_count": 406,
     "metadata": {},
     "output_type": "execute_result"
    }
   ],
   "source": [
    "sorted(zz,reverse=True) # Sorted just change temprory or it not change in original but create neww list"
   ]
  },
  {
   "cell_type": "code",
   "execution_count": 412,
   "id": "68732c27-da02-4d7b-a1fe-67948b19cc92",
   "metadata": {},
   "outputs": [
    {
     "data": {
      "text/plain": [
       "[4, 5, 6, 7, 8]"
      ]
     },
     "execution_count": 412,
     "metadata": {},
     "output_type": "execute_result"
    }
   ],
   "source": [
    "zz.sort() # it change permnent , it change the oringal list\n",
    "zz"
   ]
  },
  {
   "cell_type": "code",
   "execution_count": null,
   "id": "c3b601f3-9891-415b-afec-5a3316a1bc04",
   "metadata": {},
   "outputs": [],
   "source": []
  },
  {
   "cell_type": "code",
   "execution_count": 414,
   "id": "45f3a20b-5161-4384-873d-fbe9c0aa5caa",
   "metadata": {},
   "outputs": [
    {
     "data": {
      "text/plain": [
       "[7, 6, 5, 4, 3, 2]"
      ]
     },
     "execution_count": 414,
     "metadata": {},
     "output_type": "execute_result"
    }
   ],
   "source": [
    "sorted(l1, reverse=True)  # sorted will not make changes in the original list rather it will create a \n",
    "                        #new list in memory, It will print list in descending order"
   ]
  },
  {
   "cell_type": "code",
   "execution_count": 416,
   "id": "5387f3d1-3de2-4d51-a121-dac399223018",
   "metadata": {},
   "outputs": [
    {
     "data": {
      "text/plain": [
       "[2, 3, 4, 5, 6, 7]"
      ]
     },
     "execution_count": 416,
     "metadata": {},
     "output_type": "execute_result"
    }
   ],
   "source": [
    "l1.sort() # this operation is permanent, sort() will make changes in the original list\n",
    "l1"
   ]
  },
  {
   "cell_type": "code",
   "execution_count": 418,
   "id": "78bfc8dd-e598-4e2e-b881-3ce0640fac3f",
   "metadata": {},
   "outputs": [
    {
     "data": {
      "text/plain": [
       "[2, 3, 4, 5, 6, 7]"
      ]
     },
     "execution_count": 418,
     "metadata": {},
     "output_type": "execute_result"
    }
   ],
   "source": [
    "l1"
   ]
  },
  {
   "cell_type": "code",
   "execution_count": 424,
   "id": "d8f8047f-c33f-486b-b668-e31aa25cc936",
   "metadata": {},
   "outputs": [
    {
     "data": {
      "text/plain": [
       "[7, 6, 5, 4, 3, 2]"
      ]
     },
     "execution_count": 424,
     "metadata": {},
     "output_type": "execute_result"
    }
   ],
   "source": [
    "l1.sort(reverse=True) # settin reverse=True sorts the list in descending order\n",
    "l1"
   ]
  },
  {
   "cell_type": "code",
   "execution_count": 426,
   "id": "10ee2bc7-ab74-402f-9107-dca4147d7593",
   "metadata": {},
   "outputs": [
    {
     "data": {
      "text/plain": [
       "[8, 7, 6, 5, 4]"
      ]
     },
     "execution_count": 426,
     "metadata": {},
     "output_type": "execute_result"
    }
   ],
   "source": [
    "zz.sort(reverse=True) # mean that we can use reverse with sort() and sorted() both\n",
    "zz"
   ]
  },
  {
   "cell_type": "code",
   "execution_count": 422,
   "id": "b4da7518-a433-483b-b618-d4af695b80f3",
   "metadata": {},
   "outputs": [
    {
     "data": {
      "text/plain": [
       "[2, 3, 4, 5, 6, 7]"
      ]
     },
     "execution_count": 422,
     "metadata": {},
     "output_type": "execute_result"
    }
   ],
   "source": [
    "l1.sort()\n",
    "l1"
   ]
  },
  {
   "cell_type": "code",
   "execution_count": 432,
   "id": "88f2d26c-3796-44ff-ba0c-44441402831f",
   "metadata": {},
   "outputs": [
    {
     "data": {
      "text/plain": [
       "3"
      ]
     },
     "execution_count": 432,
     "metadata": {},
     "output_type": "execute_result"
    }
   ],
   "source": [
    "l1.index(4) # it will return the index position of item 4"
   ]
  },
  {
   "cell_type": "code",
   "execution_count": 436,
   "id": "e2587733-b2e0-496a-8eec-e42285e35c0c",
   "metadata": {},
   "outputs": [
    {
     "data": {
      "text/plain": [
       "[8, 7, 6, 5, 4]"
      ]
     },
     "execution_count": 436,
     "metadata": {},
     "output_type": "execute_result"
    }
   ],
   "source": [
    "zz"
   ]
  },
  {
   "cell_type": "code",
   "execution_count": 440,
   "id": "3e985d84-e513-4308-8a14-f92f93f98d0b",
   "metadata": {},
   "outputs": [
    {
     "data": {
      "text/plain": [
       "2"
      ]
     },
     "execution_count": 440,
     "metadata": {},
     "output_type": "execute_result"
    }
   ],
   "source": [
    "zz.index(6) # it will give the index number of '6' , note: as we know that in list item or value in not continue order , \n",
    "# while in array list itme in contiues order like 101,102,103 etc\n",
    "# so here '6' stored index or reference is 2"
   ]
  },
  {
   "cell_type": "code",
   "execution_count": 442,
   "id": "b29fd62e-6f83-4402-b059-c0dfcaccac53",
   "metadata": {},
   "outputs": [
    {
     "data": {
      "text/plain": [
       "[543, 5, 6, 7, 8, 9, 10]"
      ]
     },
     "execution_count": 442,
     "metadata": {},
     "output_type": "execute_result"
    }
   ],
   "source": [
    "l1=[543,5,6,7,8,9,10]\n",
    "l1"
   ]
  },
  {
   "cell_type": "code",
   "execution_count": 446,
   "id": "e4bc6728-5cdc-4af8-b51c-faec1ac993f2",
   "metadata": {},
   "outputs": [
    {
     "data": {
      "text/plain": [
       "543"
      ]
     },
     "execution_count": 446,
     "metadata": {},
     "output_type": "execute_result"
    }
   ],
   "source": [
    "l1[l1.index(543)]"
   ]
  },
  {
   "cell_type": "code",
   "execution_count": 450,
   "id": "bd4e6802-829f-471c-ae19-1e14ed603ec9",
   "metadata": {},
   "outputs": [
    {
     "data": {
      "text/plain": [
       "'Waqas Khan Software'"
      ]
     },
     "execution_count": 450,
     "metadata": {},
     "output_type": "execute_result"
    }
   ],
   "source": [
    "\"waqas khan software\".title() # it will capatalize the first letter of each word"
   ]
  },
  {
   "cell_type": "code",
   "execution_count": 452,
   "id": "025e5547-7eab-46fa-997a-962c2bf4e422",
   "metadata": {},
   "outputs": [
    {
     "data": {
      "text/plain": [
       "'Pakistan Is Our Home Country'"
      ]
     },
     "execution_count": 452,
     "metadata": {},
     "output_type": "execute_result"
    }
   ],
   "source": [
    "'Pakistan is our home country'.title()"
   ]
  },
  {
   "cell_type": "code",
   "execution_count": null,
   "id": "686445c0-4fbd-4ab7-8f69-02f0986e78ef",
   "metadata": {},
   "outputs": [],
   "source": [
    "Task1"
   ]
  },
  {
   "cell_type": "markdown",
   "id": "c41f6c2c-e1e8-41fb-899b-fa4c7acf9eae",
   "metadata": {},
   "source": [
    "Build custom logic and capatalize the first letter of each word\n",
    "The split() method splits a string into a list of substrings based on a delimiter. By default, it splits the string using whitespace characters (spaces, tabs, newlines) as delimiters."
   ]
  },
  {
   "cell_type": "code",
   "execution_count": 454,
   "id": "18aaa71c-630a-4243-8c05-9300a9ef75db",
   "metadata": {},
   "outputs": [
    {
     "name": "stdout",
     "output_type": "stream",
     "text": [
      "lenght is 4\n"
     ]
    }
   ],
   "source": [
    "sample=\"hello how are you\"\n",
    "lst=sample.split()\n",
    "length=len(sample.split())\n",
    "print(f'lenght is {length}')\n",
    "# will convert string into list of sub-strings"
   ]
  },
  {
   "cell_type": "code",
   "execution_count": 460,
   "id": "fda4739a-c372-4a70-99a7-6ec19d060c73",
   "metadata": {},
   "outputs": [
    {
     "data": {
      "text/plain": [
       "['We', 'here', 'to', 'learn', 'python']"
      ]
     },
     "execution_count": 460,
     "metadata": {},
     "output_type": "execute_result"
    }
   ],
   "source": [
    "# Sentence to words\n",
    "sample1=' We here to learn python '\n",
    "spt=sample1.split() # it will convert sentence to words\n",
    "spt"
   ]
  },
  {
   "cell_type": "code",
   "execution_count": 468,
   "id": "dc9e065f-76e3-4b21-a453-9b5d4302ec7b",
   "metadata": {},
   "outputs": [
    {
     "name": "stdout",
     "output_type": "stream",
     "text": [
      "lenght is 5\n"
     ]
    }
   ],
   "source": [
    "# Count the Words of sentence\n",
    "sample1=' We here to learn python '\n",
    "spt=sample1.split()\n",
    "lent=len(sample1.split()) # it will find the lenght of sentence or will tell about the sentence contains how many words we have\n",
    "lent\n",
    "print(f'lenght is {lent}')"
   ]
  },
  {
   "cell_type": "code",
   "execution_count": 494,
   "id": "2aaf9c43-7b70-44db-ae45-6195bc2e7cbf",
   "metadata": {},
   "outputs": [
    {
     "name": "stdout",
     "output_type": "stream",
     "text": [
      "['we', 'are', 'all', 'in', 'python', 'class']\n"
     ]
    }
   ],
   "source": [
    "nn='we are all in python class'\n",
    "print(nn.split())\n"
   ]
  },
  {
   "cell_type": "code",
   "execution_count": 496,
   "id": "ba052155-08c6-41cc-bbbd-be4839eb8e59",
   "metadata": {},
   "outputs": [
    {
     "name": "stdout",
     "output_type": "stream",
     "text": [
      "<built-in method capitalize of str object at 0x000002AE6C2EDBB0>\n",
      "<built-in method capitalize of str object at 0x000002AE6C3298F0>\n",
      "<built-in method capitalize of str object at 0x000002AE6C329A70>\n",
      "<built-in method capitalize of str object at 0x000002AE6C2D5A30>\n",
      "<built-in method capitalize of str object at 0x000002AE6C317CF0>\n",
      "<built-in method capitalize of str object at 0x000002AE6C314A30>\n"
     ]
    }
   ],
   "source": [
    "for i in nn.split():\n",
    "    print(i.capitalize)"
   ]
  },
  {
   "cell_type": "code",
   "execution_count": 498,
   "id": "fd54af28-e109-4283-a246-69284d7dd78d",
   "metadata": {},
   "outputs": [
    {
     "name": "stdout",
     "output_type": "stream",
     "text": [
      "['hello', 'how', 'are', 'you']\n"
     ]
    }
   ],
   "source": [
    "sample=\"hello how are you\"\n",
    "print(sample.split())"
   ]
  },
  {
   "cell_type": "code",
   "execution_count": 500,
   "id": "5f0cb3c6-7276-42c0-81c7-5f48815e8c5b",
   "metadata": {},
   "outputs": [
    {
     "name": "stdout",
     "output_type": "stream",
     "text": [
      "<built-in method capitalize of str object at 0x000002AE6C2572F0>\n",
      "<built-in method capitalize of str object at 0x000002AE6C2EDBB0>\n",
      "<built-in method capitalize of str object at 0x000002AE6C28FCF0>\n",
      "<built-in method capitalize of str object at 0x000002AE6C35F730>\n"
     ]
    }
   ],
   "source": [
    "for i in sample.split():        # i is every word\n",
    "    print(i.capitalize)"
   ]
  },
  {
   "cell_type": "code",
   "execution_count": 502,
   "id": "bada8925-44ff-4ee0-b897-fcf554ec5914",
   "metadata": {},
   "outputs": [
    {
     "name": "stdout",
     "output_type": "stream",
     "text": [
      "Hello\n",
      "How\n",
      "Are\n",
      "You\n"
     ]
    },
    {
     "data": {
      "text/plain": [
       "['Hello', 'How', 'Are', 'You']"
      ]
     },
     "execution_count": 502,
     "metadata": {},
     "output_type": "execute_result"
    }
   ],
   "source": [
    "ls=[]\n",
    "for i in sample.split():        # i is every word\n",
    "    print(i.capitalize())\n",
    "    ls.append(i.capitalize())\n",
    "ls\n"
   ]
  },
  {
   "cell_type": "code",
   "execution_count": 512,
   "id": "165860e9-46c4-4d86-a231-3f5f6be08ff5",
   "metadata": {},
   "outputs": [
    {
     "name": "stdout",
     "output_type": "stream",
     "text": [
      "We\n",
      "Are\n",
      "All\n",
      "In\n",
      "Python\n",
      "Class\n"
     ]
    },
    {
     "data": {
      "text/plain": [
       "['We', 'Are', 'All', 'In', 'Python', 'Class']"
      ]
     },
     "execution_count": 512,
     "metadata": {},
     "output_type": "execute_result"
    }
   ],
   "source": [
    "cap=[]\n",
    "for i in nn.split():\n",
    "    print(i.capitalize())\n",
    "    cap.append(i.capitalize())\n",
    "cap"
   ]
  },
  {
   "cell_type": "code",
   "execution_count": 510,
   "id": "79a46425-93c7-47ff-b727-9e8637931cee",
   "metadata": {},
   "outputs": [
    {
     "name": "stdout",
     "output_type": "stream",
     "text": [
      "Hello How Are You\n"
     ]
    }
   ],
   "source": [
    "#If you call \" \".join(ls), it will join each word in the list ls with a space in between them, \n",
    "#effectively creating a single string where words are separated by spaces.\n",
    "print(\" \".join(ls))"
   ]
  },
  {
   "cell_type": "code",
   "execution_count": 520,
   "id": "aaf221cf-47bd-4226-aa28-9486febb518d",
   "metadata": {},
   "outputs": [
    {
     "name": "stdout",
     "output_type": "stream",
     "text": [
      "we are all in python class\n",
      "We Are All In Python Class\n"
     ]
    }
   ],
   "source": [
    "\n",
    "print(\" \".join(cap))"
   ]
  },
  {
   "cell_type": "code",
   "execution_count": 522,
   "id": "155559c8-a48b-4489-b9cc-07f2948846c5",
   "metadata": {},
   "outputs": [
    {
     "name": "stdout",
     "output_type": "stream",
     "text": [
      "username is atif and password is yahoo.com\n"
     ]
    }
   ],
   "source": [
    "# Task2; extract atif from atif@gmail.com\n",
    "str1= \"atif@yahoo.com\"\n",
    "username=str1[:str1.index('@')]\n",
    "\n",
    "password= str1[str1.index('@')+1:]\n",
    "print(f'username is {username} and password is {password}')"
   ]
  },
  {
   "cell_type": "code",
   "execution_count": 530,
   "id": "1d3328f0-57ce-42fc-80f5-3bd1da32b197",
   "metadata": {},
   "outputs": [
    {
     "name": "stdout",
     "output_type": "stream",
     "text": [
      "User Name is : programmarself and Password is : gmail.com\n"
     ]
    }
   ],
   "source": [
    "email='programmarself@gmail.com'\n",
    "u_name=email[:email.index('@')] # it will print the user name  ':' use colon at the beggining\n",
    "p_word=email[email.index('@')+1:] # it will print the passwrod , ':' use colon at the end \n",
    "print(f'User Name is : {u_name} and Password is : {p_word}')"
   ]
  },
  {
   "cell_type": "code",
   "execution_count": 538,
   "id": "972395b9-7216-47c3-bc3f-d08a54287494",
   "metadata": {},
   "outputs": [
    {
     "data": {
      "text/plain": [
       "99"
      ]
     },
     "execution_count": 538,
     "metadata": {},
     "output_type": "execute_result"
    }
   ],
   "source": [
    "lst=[4,5,6,7,8,9,0,99,10]\n",
    "lst[lst.index(99)] # it means that when we want to get the spefic value we just write the wanted digit ie '99'"
   ]
  },
  {
   "cell_type": "code",
   "execution_count": 540,
   "id": "19f94816-fd83-4089-957b-3e47183a2946",
   "metadata": {},
   "outputs": [
    {
     "data": {
      "text/plain": [
       "'atif'"
      ]
     },
     "execution_count": 540,
     "metadata": {},
     "output_type": "execute_result"
    }
   ],
   "source": [
    "str1= \"atif@gmail.com\"\n",
    "str1[:str1.find('@')]"
   ]
  },
  {
   "cell_type": "code",
   "execution_count": 544,
   "id": "d97fe1d5-3eea-4938-8fe1-2b7af84c13f1",
   "metadata": {},
   "outputs": [
    {
     "data": {
      "text/plain": [
       "'programamrself'"
      ]
     },
     "execution_count": 544,
     "metadata": {},
     "output_type": "execute_result"
    }
   ],
   "source": [
    "email='programamrself@gmail.com'\n",
    "email[:email.find('@')]"
   ]
  },
  {
   "cell_type": "code",
   "execution_count": 552,
   "id": "1d7991ca-8cf5-403d-bb2a-c8713f75dd17",
   "metadata": {},
   "outputs": [
    {
     "data": {
      "text/plain": [
       "'we '"
      ]
     },
     "execution_count": 552,
     "metadata": {},
     "output_type": "execute_result"
    }
   ],
   "source": [
    "u='we love python'\n",
    "u[:u.find('love')] # if colon ': \" in the start of the list then it will print the  given sentence 'u' will give the first word\n",
    "                   # or it will print the word before the 'love' which is 'we'"
   ]
  },
  {
   "cell_type": "code",
   "execution_count": 566,
   "id": "03c77b8b-7d58-49f2-922d-29c880b1adc0",
   "metadata": {},
   "outputs": [
    {
     "data": {
      "text/plain": [
       "'love python'"
      ]
     },
     "execution_count": 566,
     "metadata": {},
     "output_type": "execute_result"
    }
   ],
   "source": [
    "u='we love python'\n",
    "u[u.find('love'):] # if colon ': \" in the end of the prenthisis then it will print the  given sentence 'u' will give the last word\n",
    "                   # or it will print the word aftr the 'love' which is 'love'"
   ]
  },
  {
   "cell_type": "code",
   "execution_count": 550,
   "id": "5778b9d0-07b5-472b-90e7-29276de88f4c",
   "metadata": {},
   "outputs": [
    {
     "data": {
      "text/plain": [
       "'we '"
      ]
     },
     "execution_count": 550,
     "metadata": {},
     "output_type": "execute_result"
    }
   ],
   "source": [
    "u='we love python'\n",
    "u[:u.index('love')]"
   ]
  },
  {
   "cell_type": "code",
   "execution_count": 568,
   "id": "a2a5818b-217d-43b6-b4d8-ec75a3a16bf0",
   "metadata": {},
   "outputs": [
    {
     "data": {
      "text/plain": [
       "[1, 2, 3, 4]"
      ]
     },
     "execution_count": 568,
     "metadata": {},
     "output_type": "execute_result"
    }
   ],
   "source": [
    "# how to remove the duplicate value\n",
    "l=[1,1,2,2,3,3,4,4]\n",
    "tmp=[]\n",
    "for i in l:\n",
    "    if i not in tmp:\n",
    "        tmp.append(i)\n",
    "tmp"
   ]
  },
  {
   "cell_type": "code",
   "execution_count": 570,
   "id": "c339b3b9-17ec-4ae4-a428-c5c4637722e0",
   "metadata": {},
   "outputs": [
    {
     "data": {
      "text/plain": [
       "[1, 2, 3, 4]"
      ]
     },
     "execution_count": 570,
     "metadata": {},
     "output_type": "execute_result"
    }
   ],
   "source": [
    "dup=[1,2,1,1,2,3,2,3,4,3,4]\n",
    "tmp=[]\n",
    "for i in dup:\n",
    "    if i not in tmp:\n",
    "        tmp.append(i)\n",
    "tmp"
   ]
  },
  {
   "cell_type": "code",
   "execution_count": 572,
   "id": "c268ac73-1cca-4ebf-a361-07501d1c2024",
   "metadata": {},
   "outputs": [
    {
     "data": {
      "text/plain": [
       "['a', 'b', 'c']"
      ]
     },
     "execution_count": 572,
     "metadata": {},
     "output_type": "execute_result"
    }
   ],
   "source": [
    "sol=['a','a','b','a','b','c','c']\n",
    "tmp=[]\n",
    "for i in sol:\n",
    "    if i not in tmp:\n",
    "        tmp.append(i)\n",
    "tmp"
   ]
  },
  {
   "cell_type": "code",
   "execution_count": 574,
   "id": "2ac0057f-1237-45b1-9cd1-ff4b628dc33b",
   "metadata": {},
   "outputs": [
    {
     "data": {
      "text/plain": [
       "['a', 'b', 'c', 'cdddd']"
      ]
     },
     "execution_count": 574,
     "metadata": {},
     "output_type": "execute_result"
    }
   ],
   "source": [
    "sol=['a','a','b','a','b','c','cdddd']\n",
    "tmp=[]\n",
    "for i in sol:\n",
    "    if i not in tmp:\n",
    "        tmp.append(i)  # can not remove under ' '\n",
    "tmp"
   ]
  }
 ],
 "metadata": {
  "kernelspec": {
   "display_name": "Python 3 (ipykernel)",
   "language": "python",
   "name": "python3"
  },
  "language_info": {
   "codemirror_mode": {
    "name": "ipython",
    "version": 3
   },
   "file_extension": ".py",
   "mimetype": "text/x-python",
   "name": "python",
   "nbconvert_exporter": "python",
   "pygments_lexer": "ipython3",
   "version": "3.11.5"
  }
 },
 "nbformat": 4,
 "nbformat_minor": 5
}
