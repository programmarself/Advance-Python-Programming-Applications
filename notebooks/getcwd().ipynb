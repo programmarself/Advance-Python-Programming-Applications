{
 "cells": [
  {
   "cell_type": "code",
   "execution_count": 5,
   "id": "6d2d30a7-20f7-4a7e-8e47-66c44ff18316",
   "metadata": {},
   "outputs": [
    {
     "data": {
      "text/plain": [
       "'E:\\\\Python For Advance Application'"
      ]
     },
     "execution_count": 5,
     "metadata": {},
     "output_type": "execute_result"
    }
   ],
   "source": [
    "import os\n",
    "os.getcwd()"
   ]
  },
  {
   "cell_type": "code",
   "execution_count": 7,
   "id": "c94d8b82-8b86-4fde-9976-54ddbcc34aee",
   "metadata": {},
   "outputs": [],
   "source": [
    "os.chdir(\"E:\\\\Python For Advance Application\\\\notebooks\")"
   ]
  },
  {
   "cell_type": "code",
   "execution_count": 9,
   "id": "1eee1a67-15e4-4428-b031-3395805d8d76",
   "metadata": {},
   "outputs": [
    {
     "data": {
      "text/plain": [
       "'E:\\\\Python For Advance Application\\\\notebooks'"
      ]
     },
     "execution_count": 9,
     "metadata": {},
     "output_type": "execute_result"
    }
   ],
   "source": [
    "os.getcwd()"
   ]
  },
  {
   "cell_type": "code",
   "execution_count": null,
   "id": "b269c4f2-5e77-4f13-8056-829876b19005",
   "metadata": {},
   "outputs": [],
   "source": []
  }
 ],
 "metadata": {
  "kernelspec": {
   "display_name": "Python 3 (ipykernel)",
   "language": "python",
   "name": "python3"
  },
  "language_info": {
   "codemirror_mode": {
    "name": "ipython",
    "version": 3
   },
   "file_extension": ".py",
   "mimetype": "text/x-python",
   "name": "python",
   "nbconvert_exporter": "python",
   "pygments_lexer": "ipython3",
   "version": "3.11.5"
  }
 },
 "nbformat": 4,
 "nbformat_minor": 5
}
