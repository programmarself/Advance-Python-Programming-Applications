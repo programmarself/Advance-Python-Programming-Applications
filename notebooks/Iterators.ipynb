{
 "cells": [
  {
   "cell_type": "markdown",
   "id": "2d9e8884",
   "metadata": {},
   "source": [
    "## What is an Iteration\n",
    "\n",
    "Iteration is a general term for taking each item of something, one after another. Any time you use a loop, explicit or implicit, to go over a group of items, that is iteration.\n",
    "\n",
    "Iteration:\n",
    "Definition: Iteration is the process of going through a sequence (e.g., a list, tuple, string, or any other data structure) one element at a time. <br>\n",
    "Purpose: It allows you to perform operations on each element of a sequence, such as printing, <br>modifying, or using the elements in computations.\n",
    "<br>Examples: Using a for loop to go through each element in a list or a while loop to iterate through a sequence of numbers."
   ]
  },
  {
   "cell_type": "code",
   "execution_count": null,
   "id": "db8476bb-e77c-47ed-8999-53709eb827d3",
   "metadata": {},
   "outputs": [],
   "source": [
    "difference between iteration, iterable and iterator\n",
    "Iteration: The process of traversing items of object one by one\n",
    "Iterable: It is an object upon which iteration can be performed or loop can be run\n",
    "Iterator: It is an object with the help of which iteration is performed."
   ]
  },
  {
   "cell_type": "code",
   "execution_count": 1,
   "id": "26fadf7e",
   "metadata": {},
   "outputs": [
    {
     "name": "stdout",
     "output_type": "stream",
     "text": [
      "1\n",
      "2\n",
      "3\n",
      "4\n",
      "5\n",
      "6\n"
     ]
    }
   ],
   "source": [
    "# Example\n",
    "num = [1,2,3,4,5,6,]\n",
    "\n",
    "for i in num:\n",
    "    print(i)"
   ]
  },
  {
   "cell_type": "markdown",
   "id": "c7ea3a1a",
   "metadata": {},
   "source": [
    "## What is Iterator\n",
    "\n",
    "An Iterator is an object that allows the programmer to traverse through a sequence of data without having to store the entire data in the memory"
   ]
  },
  {
   "cell_type": "code",
   "execution_count": 2,
   "id": "ff765a6c",
   "metadata": {},
   "outputs": [
    {
     "name": "stdout",
     "output_type": "stream",
     "text": [
      "\n",
      "Size of the list in bytes: 85176 bytes\n",
      "Size of the list in kilobytes: 83.18 KB\n",
      "Size of the list in megabytes: 0.08123 MB\n"
     ]
    }
   ],
   "source": [
    "# Example\n",
    "L = [x for x in range(1,10000)]  # list will store all numbers in memory\n",
    "\n",
    "#for i in L:               # loop will go over the list and fetch the items one by one\n",
    "  # print(i*2,end='')\n",
    "    \n",
    "import sys # sys module\n",
    "\n",
    "#print(sys.getsizeof(L)) # memory(in bytes) occupied by list in RAM\n",
    "size_in_bytes=sys.getsizeof(L)\n",
    "\n",
    "# Convert the size to kilobytes and megabytes\n",
    "size_in_kb = size_in_bytes / 1024\n",
    "size_in_mb = size_in_bytes / (1024 * 1024)\n",
    "\n",
    "# Print the size in bytes, kilobytes, and megabytes\n",
    "print()\n",
    "print(f\"Size of the list in bytes: {size_in_bytes} bytes\")\n",
    "print(f\"Size of the list in kilobytes: {size_in_kb:.2f} KB\")\n",
    "print(f\"Size of the list in megabytes: {size_in_mb:.5f} MB\")\n",
    "\n",
    "#print(sys.getsizeof(L)/64)\n"
   ]
  },
  {
   "cell_type": "code",
   "execution_count": 4,
   "id": "bc4afe33-2fb8-4259-8162-0f70bf1548d7",
   "metadata": {},
   "outputs": [
    {
     "name": "stdout",
     "output_type": "stream",
     "text": [
      "8.518451845184519\n",
      "85175.98155\n"
     ]
    }
   ],
   "source": [
    "print(85176/9999)\n",
    "print(9999*8.51845)"
   ]
  },
  {
   "cell_type": "markdown",
   "id": "0d59fbe1-f92d-4961-aa54-4f422c1047e5",
   "metadata": {},
   "source": [
    "The range function in Python creates an iterator that efficiently generates a sequence of numbers on demand. When you use the range function, it does not pre-allocate memory for the entire sequence. Instead, the range iterator only stores the start, stop, and step values for the range and calculates each item in the sequence as needed.\n",
    "\n",
    "When you iterate over a range object, it does not load all the numbers into memory at once. Instead, it computes each number on demand and yields it. This is a form of lazy evaluation, where items are generated only when needed.\n",
    "\n",
    "The range iterator does not load items from secondary storage (e.g., a hard drive or SSD). Instead, it uses arithmetic operations based on the start, stop, and step values to calculate each number in the sequence. Since the range function does not store the entire sequence in memory, it uses very little memory compared to a list.\n",
    "\n",
    "When you use sys.getsizeof(x), it measures the memory used by the range object itself, which is relatively small because it only stores a few integer values (the start, stop, and step values). It does not include the memory that would be used to store the entire sequence."
   ]
  },
  {
   "cell_type": "code",
   "execution_count": 3,
   "id": "cd8e9658-6d6b-47cd-86d0-924dfa7a30bf",
   "metadata": {},
   "outputs": [
    {
     "name": "stdout",
     "output_type": "stream",
     "text": [
      "48\n",
      "0.046875\n",
      "4.57763671875e-05\n"
     ]
    }
   ],
   "source": [
    "x = range(1,10000000)\n",
    "\n",
    "#for i in x:\n",
    "   # print(i*2,end='')\n",
    "print(sys.getsizeof(x))\n",
    "print(sys.getsizeof(x)/1024)\n",
    "print(sys.getsizeof(x)/(1024 *1024))"
   ]
  },
  {
   "cell_type": "code",
   "execution_count": 12,
   "id": "bd70678b-8ca9-4acd-95f5-c1a5ec10d885",
   "metadata": {},
   "outputs": [
    {
     "name": "stdout",
     "output_type": "stream",
     "text": [
      "48\n",
      "0.046875\n"
     ]
    }
   ],
   "source": [
    "x = range(1,10000000000)\n",
    "\n",
    "#for i in x:\n",
    "    #print(i*2)\n",
    "print(sys.getsizeof(x))  \n",
    "print(sys.getsizeof(x)/1024)"
   ]
  },
  {
   "cell_type": "markdown",
   "id": "99fff65f",
   "metadata": {},
   "source": [
    "## What is Iterable\n",
    "Iterable is an object, which one can iterate over\n",
    "\n",
    " It generates an Iterator when passed to iter() method.\n",
    " When you run a loop over an object to get its elements one by one, so that object is called iterable.\n",
    " list and range objects are iterables, becos u can run loop over the list and range object"
   ]
  },
  {
   "cell_type": "code",
   "execution_count": 8,
   "id": "d9695447-4f0f-4a5a-967c-992e9cf40eb4",
   "metadata": {},
   "outputs": [
    {
     "name": "stdout",
     "output_type": "stream",
     "text": [
      "<class 'list'>\n"
     ]
    },
    {
     "data": {
      "text/plain": [
       "list_iterator"
      ]
     },
     "execution_count": 8,
     "metadata": {},
     "output_type": "execute_result"
    }
   ],
   "source": [
    "\n",
    "list1 = [1,2,3,4,5,7]\n",
    "print(type(list1))\n",
    "listiter= iter(list1)\n",
    "type(listiter)"
   ]
  },
  {
   "cell_type": "code",
   "execution_count": 5,
   "id": "77650fa6",
   "metadata": {},
   "outputs": [
    {
     "name": "stdout",
     "output_type": "stream",
     "text": [
      "Asim\n",
      "gul rahman\n",
      "<class 'dict'>\n"
     ]
    }
   ],
   "source": [
    "# Example\n",
    "\n",
    "dic = {'name':'Asim','fname':'gul rahman'}\n",
    "for i in dic:\n",
    "    print(dic[i])\n",
    "print(type(dic))\n",
    "\n"
   ]
  },
  {
   "cell_type": "code",
   "execution_count": 6,
   "id": "06bd987c-563c-484c-b6c7-2b4b72dd22a9",
   "metadata": {},
   "outputs": [
    {
     "name": "stdout",
     "output_type": "stream",
     "text": [
      "<class 'dict_keyiterator'>\n"
     ]
    }
   ],
   "source": [
    "# L is an iterable\n",
    "diciter=iter(dic)\n",
    "print(type(diciter))\n",
    "\n",
    "# iter(L) --> iterator"
   ]
  },
  {
   "cell_type": "code",
   "execution_count": 9,
   "id": "c06c5541-2772-40d0-8b45-72d86d1b82ea",
   "metadata": {},
   "outputs": [
    {
     "name": "stdout",
     "output_type": "stream",
     "text": [
      "1 2 3 4 5 6 7 8 9 "
     ]
    }
   ],
   "source": [
    "for x in range(1,10):\n",
    "    print(x, end=\" \")"
   ]
  },
  {
   "cell_type": "markdown",
   "id": "f9482d80",
   "metadata": {},
   "source": [
    "## Point to remember\n",
    "\n",
    "- Every **Iterator** is also an **Iterable**\n",
    "- Not all **Iterables** are **Iterators**\n",
    "- list is iterable but it is not iterator because list stores all elements in memory at once while Iterators generate each element on demand, one at a time, and do not store the entire sequence in memory. This makes iterators more memory-efficient, especially when dealing with large datasets.Iteration ) can be performed over iterator object or loop can be run over iterator object"
   ]
  },
  {
   "cell_type": "code",
   "execution_count": null,
   "id": "cc5bc041-3745-4a82-b79f-7a8b5a4279a2",
   "metadata": {},
   "outputs": [],
   "source": [
    "List:\n",
    "A list is an iterable, which means it can be used to create an iterator using the iter() function.\n",
    "Lists store all elements in memory at once. This means that when you create a list, the entire list is loaded into memory, which can consume a significant amount of memory if the list is large.\n",
    "Lists are commonly used when you need to store and access all elements of the sequence at once.\n",
    "Iterator:\n",
    "An iterator is an object that represents a stream of data and can iterate through a sequence of data without pre-allocating memory for the entire sequence.\n",
    "Iterators generate each element on demand, one at a time, and do not store the entire sequence in memory. This makes iterators more memory-efficient, especially when dealing with large datasets.\n",
    "Iterators provide two key methods: __iter__() and __next__(). The __iter__() method returns the iterator itself, and the __next__() method returns the next element in the sequence, raising a StopIteration exception when there are no more elements.\n",
    "In summary, while both lists and iterators allow you to iterate over a sequence, they handle memory differently. Lists store the entire sequence in memory, while iterators generate elements on demand, making them more memory-efficient for large datasets."
   ]
  },
  {
   "cell_type": "markdown",
   "id": "9c4c52a7",
   "metadata": {},
   "source": [
    "## Trick\n",
    "- Every Iterable has an **iter function**\n",
    "- Every Iterator has both **iter function** as well as a **next function**"
   ]
  },
  {
   "cell_type": "code",
   "execution_count": 10,
   "id": "802be65a",
   "metadata": {},
   "outputs": [
    {
     "ename": "TypeError",
     "evalue": "'int' object is not iterable",
     "output_type": "error",
     "traceback": [
      "\u001b[1;31m---------------------------------------------------------------------------\u001b[0m",
      "\u001b[1;31mTypeError\u001b[0m                                 Traceback (most recent call last)",
      "Cell \u001b[1;32mIn[10], line 7\u001b[0m\n\u001b[0;32m      4\u001b[0m a \u001b[38;5;241m=\u001b[39m \u001b[38;5;241m2\u001b[39m\n\u001b[0;32m      5\u001b[0m a\n\u001b[1;32m----> 7\u001b[0m \u001b[38;5;28;43;01mfor\u001b[39;49;00m\u001b[43m \u001b[49m\u001b[43mi\u001b[49m\u001b[43m \u001b[49m\u001b[38;5;129;43;01min\u001b[39;49;00m\u001b[43m \u001b[49m\u001b[43ma\u001b[49m\u001b[43m:\u001b[49m\n\u001b[0;32m      8\u001b[0m \u001b[43m    \u001b[49m\u001b[38;5;28;43mprint\u001b[39;49m\u001b[43m(\u001b[49m\u001b[43mi\u001b[49m\u001b[43m)\u001b[49m\n",
      "\u001b[1;31mTypeError\u001b[0m: 'int' object is not iterable"
     ]
    }
   ],
   "source": [
    "# i have integer object, is it iterable, if loop can be run over integer object, then it is iterable \n",
    "#otherise not\n",
    "# Two ways to check whether object is iterable or not: for loop, dir method\n",
    "a = 2\n",
    "a\n",
    "\n",
    "for i in a:\n",
    "    print(i)\n",
    "    \n"
   ]
  },
  {
   "cell_type": "code",
   "execution_count": 11,
   "id": "2e21d9a2-298b-4ead-bd1f-70503ef69d14",
   "metadata": {},
   "outputs": [
    {
     "data": {
      "text/plain": [
       "['__abs__',\n",
       " '__add__',\n",
       " '__and__',\n",
       " '__bool__',\n",
       " '__ceil__',\n",
       " '__class__',\n",
       " '__delattr__',\n",
       " '__dir__',\n",
       " '__divmod__',\n",
       " '__doc__',\n",
       " '__eq__',\n",
       " '__float__',\n",
       " '__floor__',\n",
       " '__floordiv__',\n",
       " '__format__',\n",
       " '__ge__',\n",
       " '__getattribute__',\n",
       " '__getnewargs__',\n",
       " '__getstate__',\n",
       " '__gt__',\n",
       " '__hash__',\n",
       " '__index__',\n",
       " '__init__',\n",
       " '__init_subclass__',\n",
       " '__int__',\n",
       " '__invert__',\n",
       " '__le__',\n",
       " '__lshift__',\n",
       " '__lt__',\n",
       " '__mod__',\n",
       " '__mul__',\n",
       " '__ne__',\n",
       " '__neg__',\n",
       " '__new__',\n",
       " '__or__',\n",
       " '__pos__',\n",
       " '__pow__',\n",
       " '__radd__',\n",
       " '__rand__',\n",
       " '__rdivmod__',\n",
       " '__reduce__',\n",
       " '__reduce_ex__',\n",
       " '__repr__',\n",
       " '__rfloordiv__',\n",
       " '__rlshift__',\n",
       " '__rmod__',\n",
       " '__rmul__',\n",
       " '__ror__',\n",
       " '__round__',\n",
       " '__rpow__',\n",
       " '__rrshift__',\n",
       " '__rshift__',\n",
       " '__rsub__',\n",
       " '__rtruediv__',\n",
       " '__rxor__',\n",
       " '__setattr__',\n",
       " '__sizeof__',\n",
       " '__str__',\n",
       " '__sub__',\n",
       " '__subclasshook__',\n",
       " '__truediv__',\n",
       " '__trunc__',\n",
       " '__xor__',\n",
       " 'as_integer_ratio',\n",
       " 'bit_count',\n",
       " 'bit_length',\n",
       " 'conjugate',\n",
       " 'denominator',\n",
       " 'from_bytes',\n",
       " 'imag',\n",
       " 'is_integer',\n",
       " 'numerator',\n",
       " 'real',\n",
       " 'to_bytes']"
      ]
     },
     "execution_count": 11,
     "metadata": {},
     "output_type": "execute_result"
    }
   ],
   "source": [
    "dir(a)"
   ]
  },
  {
   "cell_type": "code",
   "execution_count": 12,
   "id": "b8eb0af8-ab0e-4a5c-a5c4-622d1f8ec8d5",
   "metadata": {},
   "outputs": [
    {
     "name": "stdout",
     "output_type": "stream",
     "text": [
      "M\n",
      "u\n",
      "a\n",
      "z\n",
      "z\n",
      "a\n",
      "m\n"
     ]
    }
   ],
   "source": [
    "str = 'Muazzam'\n",
    "str\n",
    "\n",
    "for i in str:\n",
    "    print(i)"
   ]
  },
  {
   "cell_type": "code",
   "execution_count": 13,
   "id": "57cbc4c5-fa4d-492e-952d-4eeec2f96282",
   "metadata": {},
   "outputs": [
    {
     "data": {
      "text/plain": [
       "['__add__',\n",
       " '__class__',\n",
       " '__contains__',\n",
       " '__delattr__',\n",
       " '__dir__',\n",
       " '__doc__',\n",
       " '__eq__',\n",
       " '__format__',\n",
       " '__ge__',\n",
       " '__getattribute__',\n",
       " '__getitem__',\n",
       " '__getnewargs__',\n",
       " '__getstate__',\n",
       " '__gt__',\n",
       " '__hash__',\n",
       " '__init__',\n",
       " '__init_subclass__',\n",
       " '__iter__',\n",
       " '__le__',\n",
       " '__len__',\n",
       " '__lt__',\n",
       " '__mod__',\n",
       " '__mul__',\n",
       " '__ne__',\n",
       " '__new__',\n",
       " '__reduce__',\n",
       " '__reduce_ex__',\n",
       " '__repr__',\n",
       " '__rmod__',\n",
       " '__rmul__',\n",
       " '__setattr__',\n",
       " '__sizeof__',\n",
       " '__str__',\n",
       " '__subclasshook__',\n",
       " 'capitalize',\n",
       " 'casefold',\n",
       " 'center',\n",
       " 'count',\n",
       " 'encode',\n",
       " 'endswith',\n",
       " 'expandtabs',\n",
       " 'find',\n",
       " 'format',\n",
       " 'format_map',\n",
       " 'index',\n",
       " 'isalnum',\n",
       " 'isalpha',\n",
       " 'isascii',\n",
       " 'isdecimal',\n",
       " 'isdigit',\n",
       " 'isidentifier',\n",
       " 'islower',\n",
       " 'isnumeric',\n",
       " 'isprintable',\n",
       " 'isspace',\n",
       " 'istitle',\n",
       " 'isupper',\n",
       " 'join',\n",
       " 'ljust',\n",
       " 'lower',\n",
       " 'lstrip',\n",
       " 'maketrans',\n",
       " 'partition',\n",
       " 'removeprefix',\n",
       " 'removesuffix',\n",
       " 'replace',\n",
       " 'rfind',\n",
       " 'rindex',\n",
       " 'rjust',\n",
       " 'rpartition',\n",
       " 'rsplit',\n",
       " 'rstrip',\n",
       " 'split',\n",
       " 'splitlines',\n",
       " 'startswith',\n",
       " 'strip',\n",
       " 'swapcase',\n",
       " 'title',\n",
       " 'translate',\n",
       " 'upper',\n",
       " 'zfill']"
      ]
     },
     "execution_count": 13,
     "metadata": {},
     "output_type": "execute_result"
    }
   ],
   "source": [
    "dir(str)"
   ]
  },
  {
   "cell_type": "code",
   "execution_count": 10,
   "id": "5a209a8e-26d7-44c1-b893-f787bf88cf2b",
   "metadata": {},
   "outputs": [
    {
     "data": {
      "text/plain": [
       "['__abs__',\n",
       " '__add__',\n",
       " '__and__',\n",
       " '__bool__',\n",
       " '__ceil__',\n",
       " '__class__',\n",
       " '__delattr__',\n",
       " '__dir__',\n",
       " '__divmod__',\n",
       " '__doc__',\n",
       " '__eq__',\n",
       " '__float__',\n",
       " '__floor__',\n",
       " '__floordiv__',\n",
       " '__format__',\n",
       " '__ge__',\n",
       " '__getattribute__',\n",
       " '__getnewargs__',\n",
       " '__getstate__',\n",
       " '__gt__',\n",
       " '__hash__',\n",
       " '__index__',\n",
       " '__init__',\n",
       " '__init_subclass__',\n",
       " '__int__',\n",
       " '__invert__',\n",
       " '__le__',\n",
       " '__lshift__',\n",
       " '__lt__',\n",
       " '__mod__',\n",
       " '__mul__',\n",
       " '__ne__',\n",
       " '__neg__',\n",
       " '__new__',\n",
       " '__or__',\n",
       " '__pos__',\n",
       " '__pow__',\n",
       " '__radd__',\n",
       " '__rand__',\n",
       " '__rdivmod__',\n",
       " '__reduce__',\n",
       " '__reduce_ex__',\n",
       " '__repr__',\n",
       " '__rfloordiv__',\n",
       " '__rlshift__',\n",
       " '__rmod__',\n",
       " '__rmul__',\n",
       " '__ror__',\n",
       " '__round__',\n",
       " '__rpow__',\n",
       " '__rrshift__',\n",
       " '__rshift__',\n",
       " '__rsub__',\n",
       " '__rtruediv__',\n",
       " '__rxor__',\n",
       " '__setattr__',\n",
       " '__sizeof__',\n",
       " '__str__',\n",
       " '__sub__',\n",
       " '__subclasshook__',\n",
       " '__truediv__',\n",
       " '__trunc__',\n",
       " '__xor__',\n",
       " 'as_integer_ratio',\n",
       " 'bit_count',\n",
       " 'bit_length',\n",
       " 'conjugate',\n",
       " 'denominator',\n",
       " 'from_bytes',\n",
       " 'imag',\n",
       " 'is_integer',\n",
       " 'numerator',\n",
       " 'real',\n",
       " 'to_bytes']"
      ]
     },
     "execution_count": 10,
     "metadata": {},
     "output_type": "execute_result"
    }
   ],
   "source": [
    "dir(a) # another way (without for loop)to check whether python object is iterable or not is use dir method\n",
    "        # in a list of methods, if we find iter method, then the given object is iterable"
   ]
  },
  {
   "cell_type": "code",
   "execution_count": 13,
   "id": "e0b384a1-802f-4f3b-858b-8f09aaebe5d1",
   "metadata": {},
   "outputs": [
    {
     "data": {
      "text/plain": [
       "['__add__',\n",
       " '__class__',\n",
       " '__class_getitem__',\n",
       " '__contains__',\n",
       " '__delattr__',\n",
       " '__dir__',\n",
       " '__doc__',\n",
       " '__eq__',\n",
       " '__format__',\n",
       " '__ge__',\n",
       " '__getattribute__',\n",
       " '__getitem__',\n",
       " '__getnewargs__',\n",
       " '__getstate__',\n",
       " '__gt__',\n",
       " '__hash__',\n",
       " '__init__',\n",
       " '__init_subclass__',\n",
       " '__iter__',\n",
       " '__le__',\n",
       " '__len__',\n",
       " '__lt__',\n",
       " '__mul__',\n",
       " '__ne__',\n",
       " '__new__',\n",
       " '__reduce__',\n",
       " '__reduce_ex__',\n",
       " '__repr__',\n",
       " '__rmul__',\n",
       " '__setattr__',\n",
       " '__sizeof__',\n",
       " '__str__',\n",
       " '__subclasshook__',\n",
       " 'count',\n",
       " 'index']"
      ]
     },
     "execution_count": 13,
     "metadata": {},
     "output_type": "execute_result"
    }
   ],
   "source": [
    "Tp= (2,3,4)\n",
    "dir(Tp)"
   ]
  },
  {
   "cell_type": "code",
   "execution_count": 14,
   "id": "d93a9990-3e1e-4637-94d5-f7f6a566273f",
   "metadata": {},
   "outputs": [
    {
     "data": {
      "text/plain": [
       "['__and__',\n",
       " '__class__',\n",
       " '__class_getitem__',\n",
       " '__contains__',\n",
       " '__delattr__',\n",
       " '__dir__',\n",
       " '__doc__',\n",
       " '__eq__',\n",
       " '__format__',\n",
       " '__ge__',\n",
       " '__getattribute__',\n",
       " '__getstate__',\n",
       " '__gt__',\n",
       " '__hash__',\n",
       " '__iand__',\n",
       " '__init__',\n",
       " '__init_subclass__',\n",
       " '__ior__',\n",
       " '__isub__',\n",
       " '__iter__',\n",
       " '__ixor__',\n",
       " '__le__',\n",
       " '__len__',\n",
       " '__lt__',\n",
       " '__ne__',\n",
       " '__new__',\n",
       " '__or__',\n",
       " '__rand__',\n",
       " '__reduce__',\n",
       " '__reduce_ex__',\n",
       " '__repr__',\n",
       " '__ror__',\n",
       " '__rsub__',\n",
       " '__rxor__',\n",
       " '__setattr__',\n",
       " '__sizeof__',\n",
       " '__str__',\n",
       " '__sub__',\n",
       " '__subclasshook__',\n",
       " '__xor__',\n",
       " 'add',\n",
       " 'clear',\n",
       " 'copy',\n",
       " 'difference',\n",
       " 'difference_update',\n",
       " 'discard',\n",
       " 'intersection',\n",
       " 'intersection_update',\n",
       " 'isdisjoint',\n",
       " 'issubset',\n",
       " 'issuperset',\n",
       " 'pop',\n",
       " 'remove',\n",
       " 'symmetric_difference',\n",
       " 'symmetric_difference_update',\n",
       " 'union',\n",
       " 'update']"
      ]
     },
     "execution_count": 14,
     "metadata": {},
     "output_type": "execute_result"
    }
   ],
   "source": [
    "s= {2,3,4}\n",
    "dir(s)"
   ]
  },
  {
   "cell_type": "code",
   "execution_count": 27,
   "id": "2daf8b0a",
   "metadata": {},
   "outputs": [
    {
     "data": {
      "text/plain": [
       "['__class__',\n",
       " '__class_getitem__',\n",
       " '__contains__',\n",
       " '__delattr__',\n",
       " '__delitem__',\n",
       " '__dir__',\n",
       " '__doc__',\n",
       " '__eq__',\n",
       " '__format__',\n",
       " '__ge__',\n",
       " '__getattribute__',\n",
       " '__getitem__',\n",
       " '__getstate__',\n",
       " '__gt__',\n",
       " '__hash__',\n",
       " '__init__',\n",
       " '__init_subclass__',\n",
       " '__ior__',\n",
       " '__iter__',\n",
       " '__le__',\n",
       " '__len__',\n",
       " '__lt__',\n",
       " '__ne__',\n",
       " '__new__',\n",
       " '__or__',\n",
       " '__reduce__',\n",
       " '__reduce_ex__',\n",
       " '__repr__',\n",
       " '__reversed__',\n",
       " '__ror__',\n",
       " '__setattr__',\n",
       " '__setitem__',\n",
       " '__sizeof__',\n",
       " '__str__',\n",
       " '__subclasshook__',\n",
       " 'clear',\n",
       " 'copy',\n",
       " 'fromkeys',\n",
       " 'get',\n",
       " 'items',\n",
       " 'keys',\n",
       " 'pop',\n",
       " 'popitem',\n",
       " 'setdefault',\n",
       " 'update',\n",
       " 'values']"
      ]
     },
     "execution_count": 27,
     "metadata": {},
     "output_type": "execute_result"
    }
   ],
   "source": [
    "T = {1:2,3:4}\n",
    "dir(T)"
   ]
  },
  {
   "cell_type": "code",
   "execution_count": 15,
   "id": "7468f8bf",
   "metadata": {},
   "outputs": [
    {
     "data": {
      "text/plain": [
       "['__add__',\n",
       " '__class__',\n",
       " '__class_getitem__',\n",
       " '__contains__',\n",
       " '__delattr__',\n",
       " '__delitem__',\n",
       " '__dir__',\n",
       " '__doc__',\n",
       " '__eq__',\n",
       " '__format__',\n",
       " '__ge__',\n",
       " '__getattribute__',\n",
       " '__getitem__',\n",
       " '__getstate__',\n",
       " '__gt__',\n",
       " '__hash__',\n",
       " '__iadd__',\n",
       " '__imul__',\n",
       " '__init__',\n",
       " '__init_subclass__',\n",
       " '__iter__',\n",
       " '__le__',\n",
       " '__len__',\n",
       " '__lt__',\n",
       " '__mul__',\n",
       " '__ne__',\n",
       " '__new__',\n",
       " '__reduce__',\n",
       " '__reduce_ex__',\n",
       " '__repr__',\n",
       " '__reversed__',\n",
       " '__rmul__',\n",
       " '__setattr__',\n",
       " '__setitem__',\n",
       " '__sizeof__',\n",
       " '__str__',\n",
       " '__subclasshook__',\n",
       " 'append',\n",
       " 'clear',\n",
       " 'copy',\n",
       " 'count',\n",
       " 'extend',\n",
       " 'index',\n",
       " 'insert',\n",
       " 'pop',\n",
       " 'remove',\n",
       " 'reverse',\n",
       " 'sort']"
      ]
     },
     "execution_count": 15,
     "metadata": {},
     "output_type": "execute_result"
    }
   ],
   "source": [
    "L = [1,2,3]\n",
    "dir(L)\n"
   ]
  },
  {
   "cell_type": "code",
   "execution_count": 16,
   "id": "109a7356-a57c-42ca-9e2a-3e3efa31f653",
   "metadata": {},
   "outputs": [
    {
     "data": {
      "text/plain": [
       "['__class__',\n",
       " '__delattr__',\n",
       " '__dir__',\n",
       " '__doc__',\n",
       " '__eq__',\n",
       " '__format__',\n",
       " '__ge__',\n",
       " '__getattribute__',\n",
       " '__getstate__',\n",
       " '__gt__',\n",
       " '__hash__',\n",
       " '__init__',\n",
       " '__init_subclass__',\n",
       " '__iter__',\n",
       " '__le__',\n",
       " '__length_hint__',\n",
       " '__lt__',\n",
       " '__ne__',\n",
       " '__new__',\n",
       " '__next__',\n",
       " '__reduce__',\n",
       " '__reduce_ex__',\n",
       " '__repr__',\n",
       " '__setattr__',\n",
       " '__setstate__',\n",
       " '__sizeof__',\n",
       " '__str__',\n",
       " '__subclasshook__']"
      ]
     },
     "execution_count": 16,
     "metadata": {},
     "output_type": "execute_result"
    }
   ],
   "source": [
    "# to check whether the object is iterator or not, Pass the object to dir method, if we find iter and next methods\n",
    "# L is iterator else L is not an iterator\n",
    "L=[3,5,6,7,9]\n",
    "iter_L = iter(L)  # iterator can be generated from iterable object using the iter method\n",
    "dir(iter_L)\n",
    "# iter_L is an iterator"
   ]
  },
  {
   "cell_type": "markdown",
   "id": "cbc4e41a-8e3a-4742-b6e0-c306b6058d6c",
   "metadata": {},
   "source": [
    "<b>difference between iteration, iterable and iterator </b> <br>\n",
    "Iteration: The process of traversing items of object one by one<br>\n",
    "Iterable: It is an object upon which iteration can be performed or loop can be run<br>\n",
    "Iterator: It is an object with the help of which iteration is performed.<br>"
   ]
  },
  {
   "cell_type": "markdown",
   "id": "5f02c4b7",
   "metadata": {},
   "source": [
    "## Understanding how for loop works"
   ]
  },
  {
   "cell_type": "code",
   "execution_count": 16,
   "id": "8b518b08",
   "metadata": {},
   "outputs": [
    {
     "name": "stdout",
     "output_type": "stream",
     "text": [
      "1\n",
      "2\n",
      "3\n"
     ]
    }
   ],
   "source": [
    "num = [1,2,3]\n",
    "\n",
    "for i in num:\n",
    "    print(i)"
   ]
  },
  {
   "cell_type": "code",
   "execution_count": 17,
   "id": "290e007e-7954-46f4-9352-d14c5ea69019",
   "metadata": {},
   "outputs": [],
   "source": [
    "num = [1,2,3,4] # define iterable\n",
    "\n",
    "# fetch the iterator\n",
    "iter_num = iter(num) # first the for loop fetches iterator from iterable object using the iter()\n"
   ]
  },
  {
   "cell_type": "code",
   "execution_count": 18,
   "id": "51721d4e-4539-4c13-b18e-c3f1e9217447",
   "metadata": {},
   "outputs": [
    {
     "name": "stdout",
     "output_type": "stream",
     "text": [
      "1\n"
     ]
    }
   ],
   "source": [
    "print(next(iter_num))"
   ]
  },
  {
   "cell_type": "code",
   "execution_count": 19,
   "id": "20656936-abca-46c6-a69b-74bba25046c0",
   "metadata": {},
   "outputs": [
    {
     "name": "stdout",
     "output_type": "stream",
     "text": [
      "2\n"
     ]
    }
   ],
   "source": [
    "print(next(iter_num))"
   ]
  },
  {
   "cell_type": "code",
   "execution_count": 20,
   "id": "0958c335-1dd1-40dc-8227-084c5ecbc6e4",
   "metadata": {},
   "outputs": [
    {
     "name": "stdout",
     "output_type": "stream",
     "text": [
      "3\n"
     ]
    }
   ],
   "source": [
    "print(next(iter_num))"
   ]
  },
  {
   "cell_type": "code",
   "execution_count": 21,
   "id": "c4825033-bc28-4c3f-8e91-ecdea0c57fbd",
   "metadata": {},
   "outputs": [
    {
     "name": "stdout",
     "output_type": "stream",
     "text": [
      "4\n"
     ]
    }
   ],
   "source": [
    "print(next(iter_num))"
   ]
  },
  {
   "cell_type": "code",
   "execution_count": 22,
   "id": "92cfb23b-5ecf-432c-8768-1370799b177b",
   "metadata": {},
   "outputs": [
    {
     "ename": "StopIteration",
     "evalue": "",
     "output_type": "error",
     "traceback": [
      "\u001b[1;31m---------------------------------------------------------------------------\u001b[0m",
      "\u001b[1;31mStopIteration\u001b[0m                             Traceback (most recent call last)",
      "Cell \u001b[1;32mIn[22], line 1\u001b[0m\n\u001b[1;32m----> 1\u001b[0m \u001b[38;5;28mprint\u001b[39m(\u001b[38;5;28;43mnext\u001b[39;49m\u001b[43m(\u001b[49m\u001b[43miter_num\u001b[49m\u001b[43m)\u001b[49m)\n",
      "\u001b[1;31mStopIteration\u001b[0m: "
     ]
    }
   ],
   "source": [
    "print(next(iter_num))"
   ]
  },
  {
   "cell_type": "code",
   "execution_count": 5,
   "id": "bfb4f98d",
   "metadata": {},
   "outputs": [
    {
     "name": "stdout",
     "output_type": "stream",
     "text": [
      "1\n",
      "2\n",
      "3\n",
      "4\n"
     ]
    },
    {
     "ename": "StopIteration",
     "evalue": "",
     "output_type": "error",
     "traceback": [
      "\u001b[1;31m---------------------------------------------------------------------------\u001b[0m",
      "\u001b[1;31mStopIteration\u001b[0m                             Traceback (most recent call last)",
      "Cell \u001b[1;32mIn[5], line 12\u001b[0m\n\u001b[0;32m     10\u001b[0m \u001b[38;5;28mprint\u001b[39m(\u001b[38;5;28mnext\u001b[39m(iter_num))\n\u001b[0;32m     11\u001b[0m \u001b[38;5;28mprint\u001b[39m(\u001b[38;5;28mnext\u001b[39m(iter_num))\n\u001b[1;32m---> 12\u001b[0m \u001b[38;5;28mprint\u001b[39m(\u001b[38;5;28;43mnext\u001b[39;49m\u001b[43m(\u001b[49m\u001b[43miter_num\u001b[49m\u001b[43m)\u001b[49m)\n",
      "\u001b[1;31mStopIteration\u001b[0m: "
     ]
    }
   ],
   "source": [
    "\n",
    "# the next function of the iterator is called repeatedly to access the elments one by one.\n",
    "# step2 --> next # Every iterator has next function showing state of iterator or item under consideration\n",
    " #since iterator is at 0th position, it will print 1\n",
    "print(next(iter_num))\n",
    "print(next(iter_num))\n",
    "print(next(iter_num))\n",
    "print(next(iter_num))"
   ]
  },
  {
   "cell_type": "markdown",
   "id": "e35d6e87",
   "metadata": {},
   "source": [
    "## Making our own for loop"
   ]
  },
  {
   "cell_type": "code",
   "execution_count": 23,
   "id": "7822da8e",
   "metadata": {},
   "outputs": [],
   "source": [
    "def my_for_loop(iterable):\n",
    "    \n",
    "    iterator = iter(iterable)\n",
    "    \n",
    "    while True:\n",
    "        \n",
    "        try:\n",
    "            print(next(iterator))\n",
    "        except StopIteration:\n",
    "            break           "
   ]
  },
  {
   "cell_type": "code",
   "execution_count": 24,
   "id": "f1219b62-1d7a-41aa-a3d0-72f819d8ed74",
   "metadata": {},
   "outputs": [
    {
     "name": "stdout",
     "output_type": "stream",
     "text": [
      "1\n",
      "2\n",
      "3\n",
      "4\n",
      "5\n",
      "6\n",
      "8\n",
      "9\n"
     ]
    }
   ],
   "source": [
    "a = [1,2,3,4,5,6,8,9]\n",
    "my_for_loop(a)"
   ]
  },
  {
   "cell_type": "code",
   "execution_count": 26,
   "id": "7a8f95af-5942-4d41-88fb-efc35dac7d06",
   "metadata": {},
   "outputs": [
    {
     "name": "stdout",
     "output_type": "stream",
     "text": [
      "name\n",
      "fname\n",
      "add\n"
     ]
    }
   ],
   "source": [
    "dic = {'name':'Asim','fname':'gul rahman', 'add':'kohat'}\n",
    "my_for_loop(dic)"
   ]
  },
  {
   "cell_type": "code",
   "execution_count": 8,
   "id": "6bcd3f41-eaf4-43b6-bc72-f07a4e4246e1",
   "metadata": {},
   "outputs": [
    {
     "name": "stdout",
     "output_type": "stream",
     "text": [
      "1\n",
      "2\n",
      "3\n",
      "4\n",
      "5\n",
      "6\n",
      "7\n",
      "8\n",
      "9\n",
      "10\n"
     ]
    }
   ],
   "source": [
    "b = range(1,11)\n",
    "my_for_loop(b)"
   ]
  },
  {
   "cell_type": "code",
   "execution_count": 9,
   "id": "27cd0983-7733-40e2-a11b-47c2e6f3cc48",
   "metadata": {},
   "outputs": [
    {
     "data": {
      "text/plain": [
       "['__bool__',\n",
       " '__class__',\n",
       " '__contains__',\n",
       " '__delattr__',\n",
       " '__dir__',\n",
       " '__doc__',\n",
       " '__eq__',\n",
       " '__format__',\n",
       " '__ge__',\n",
       " '__getattribute__',\n",
       " '__getitem__',\n",
       " '__getstate__',\n",
       " '__gt__',\n",
       " '__hash__',\n",
       " '__init__',\n",
       " '__init_subclass__',\n",
       " '__iter__',\n",
       " '__le__',\n",
       " '__len__',\n",
       " '__lt__',\n",
       " '__ne__',\n",
       " '__new__',\n",
       " '__reduce__',\n",
       " '__reduce_ex__',\n",
       " '__repr__',\n",
       " '__reversed__',\n",
       " '__setattr__',\n",
       " '__sizeof__',\n",
       " '__str__',\n",
       " '__subclasshook__',\n",
       " 'count',\n",
       " 'index',\n",
       " 'start',\n",
       " 'step',\n",
       " 'stop']"
      ]
     },
     "execution_count": 9,
     "metadata": {},
     "output_type": "execute_result"
    }
   ],
   "source": [
    "C = range(1,11)\n",
    "dir(C)"
   ]
  },
  {
   "cell_type": "markdown",
   "id": "f04ec1e5-7784-4c8c-954b-90e07f3bf1a6",
   "metadata": {},
   "source": [
    "range(1, 11) is an iterable because you can loop over it.\n",
    "\n",
    "But it is not an iterator because it doesn’t have a __next__() method directly.\n",
    "\n",
    "To get an iterator from it, you do this:"
   ]
  },
  {
   "cell_type": "code",
   "execution_count": 11,
   "id": "ccbf96cc-4780-4190-8adf-396709dbb56f",
   "metadata": {},
   "outputs": [
    {
     "data": {
      "text/plain": [
       "1"
      ]
     },
     "execution_count": 11,
     "metadata": {},
     "output_type": "execute_result"
    }
   ],
   "source": [
    "it = iter(C)\n",
    "#Now it is an iterator, and you can use:\n",
    "next(it)"
   ]
  },
  {
   "cell_type": "code",
   "execution_count": 12,
   "id": "66f2adc1-50a7-47c3-95c1-3672e17e262d",
   "metadata": {},
   "outputs": [
    {
     "data": {
      "text/plain": [
       "2"
      ]
     },
     "execution_count": 12,
     "metadata": {},
     "output_type": "execute_result"
    }
   ],
   "source": [
    "next(it)"
   ]
  },
  {
   "cell_type": "code",
   "execution_count": 15,
   "id": "38ab46a8-f082-4354-b45c-23f89b878780",
   "metadata": {},
   "outputs": [
    {
     "name": "stdout",
     "output_type": "stream",
     "text": [
      "1\n",
      "2\n",
      "3\n",
      "4\n",
      "5\n",
      "6\n",
      "7\n",
      "8\n",
      "9\n",
      "10\n"
     ]
    }
   ],
   "source": [
    "#You can explicitly convert the iterable C into an iterator using iter(C), and then use it in a for loop like this:\n",
    "#In this case, iter(C) explicitly turns the range object into an iterator, \n",
    "#but the for loop will still handle the iteration process for you automatically, just as it would with the original C.\n",
    "C = range(1, 11)\n",
    "\n",
    "for i in iter(C):\n",
    "    print(i)\n"
   ]
  },
  {
   "cell_type": "markdown",
   "id": "770b665e-0e71-4294-9a14-96eb5a9b5281",
   "metadata": {},
   "source": [
    "The for loop in Python internally calls iter() on the iterable before starting the iteration. So when you use a for loop with an iterable like range, Python automatically converts it into an iterator and handles the iteration process for you.\n",
    "\n",
    "Here’s how it works internally:\n",
    "\n",
    "Iterable: An object like range(1, 11) is an iterable.\n",
    "\n",
    "iter(): The for loop calls iter(C) behind the scenes to obtain an iterator.\n",
    "\n",
    "Iterator: The iterator is then used to fetch elements one by one using next() until all elements are exhausted."
   ]
  },
  {
   "cell_type": "code",
   "execution_count": 13,
   "id": "b65e7174-e54c-4958-ab8f-f91f6cd928b0",
   "metadata": {},
   "outputs": [
    {
     "name": "stdout",
     "output_type": "stream",
     "text": [
      "1\n",
      "2\n",
      "3\n",
      "4\n",
      "5\n",
      "6\n",
      "7\n",
      "8\n",
      "9\n",
      "10\n"
     ]
    }
   ],
   "source": [
    "#you can definitely use a for loop over the range object because it is iterable.\n",
    "C = range(1, 11)\n",
    "\n",
    "for num in C:\n",
    "    print(num)\n"
   ]
  },
  {
   "attachments": {
    "583718e7-4f52-4bec-81cf-09a4bd93b529.png": {
     "image/png": "[encoded data removed]"
    }
   },
   "cell_type": "markdown",
   "id": "14710206-a26d-455c-99d1-5bf3b1625532",
   "metadata": {},
   "source": [
    "![image.png](attachment:583718e7-4f52-4bec-81cf-09a4bd93b529.png)"
   ]
  },
  {
   "cell_type": "code",
   "execution_count": 16,
   "id": "68a428be",
   "metadata": {},
   "outputs": [
    {
     "name": "stdout",
     "output_type": "stream",
     "text": [
      "name\n",
      "addres\n"
     ]
    }
   ],
   "source": [
    "\n",
    "\n",
    "c = (1,2,3)\n",
    "d = {1,2,3}\n",
    "e = {'name':'Atif','addres':'Peshawar'}\n",
    "\n",
    "my_for_loop(e)\n",
    "#my_for_loop(b)"
   ]
  },
  {
   "cell_type": "markdown",
   "id": "81a3e616",
   "metadata": {},
   "source": [
    "## A confusing point"
   ]
  },
  {
   "cell_type": "code",
   "execution_count": null,
   "id": "dfe9daa8-338d-45e0-afcf-63cf1e258569",
   "metadata": {},
   "outputs": [],
   "source": []
  },
  {
   "cell_type": "code",
   "execution_count": 17,
   "id": "269d3c83",
   "metadata": {},
   "outputs": [
    {
     "name": "stdout",
     "output_type": "stream",
     "text": [
      "1793081604368 Address of iterator 1\n",
      "1793081604368 Address of iterator 2\n"
     ]
    }
   ],
   "source": [
    "num = [1,2,3]\n",
    "iter_obj = iter(num) # you get iterator object, when run iter method on iterable object\n",
    "\n",
    "print(id(iter_obj),'Address of iterator 1')\n",
    "\n",
    "iter_obj2 = iter(iter_obj) # get another iterator object when iter method is run on iterator object but this object is iterator object by itself\n",
    "print(id(iter_obj2),'Address of iterator 2')"
   ]
  },
  {
   "cell_type": "markdown",
   "id": "051af6bc",
   "metadata": {},
   "source": [
    "## Let's create our own range() function\n",
    "here i create an object that will behave like range function. we will create two classes"
   ]
  },
  {
   "cell_type": "code",
   "execution_count": 67,
   "id": "7eaf1228",
   "metadata": {},
   "outputs": [],
   "source": [
    "#when range function is called, we give two inputs: start and end, it is implemented here in __init__function\n",
    "# Every iterable object has iter() magic method, so add this method\n",
    "\n",
    "class mera_range:  # iterable class\n",
    "    \n",
    "    def __init__(self,start,end):\n",
    "        self.start = start           # user supplied value for start will store here\n",
    "        self.end = end\n",
    "        \n",
    "    def __iter__(self):\n",
    "        return mera_range_iterator(self)"
   ]
  },
  {
   "cell_type": "code",
   "execution_count": 68,
   "id": "28118f2d",
   "metadata": {},
   "outputs": [],
   "source": [
    "class mera_range_iterator: # iterator class, its work is to run a loop b/w starting and ending number to generate numbers one by one\n",
    "    \n",
    "    def __init__(self,iterable_obj):\n",
    "        self.iterable = iterable_obj\n",
    "    \n",
    "    def __iter__(self):\n",
    "        return self\n",
    "    \n",
    "    def __next__(self):\n",
    "        \n",
    "        if self.iterable.start >= self.iterable.end:\n",
    "            raise StopIteration\n",
    "            \n",
    "        current = self.iterable.start\n",
    "        self.iterable.start+=1\n",
    "        return current"
   ]
  },
  {
   "cell_type": "code",
   "execution_count": 70,
   "id": "142c0b98",
   "metadata": {},
   "outputs": [],
   "source": [
    "x = mera_range(1,11)"
   ]
  },
  {
   "cell_type": "code",
   "execution_count": 71,
   "id": "5aaaeeb3",
   "metadata": {},
   "outputs": [
    {
     "data": {
      "text/plain": [
       "__main__.mera_range"
      ]
     },
     "execution_count": 71,
     "metadata": {},
     "output_type": "execute_result"
    }
   ],
   "source": [
    "type(x)"
   ]
  },
  {
   "cell_type": "code",
   "execution_count": 72,
   "id": "8e742864",
   "metadata": {},
   "outputs": [
    {
     "data": {
      "text/plain": [
       "<__main__.mera_range_iterator at 0x2130fd362b0>"
      ]
     },
     "execution_count": 72,
     "metadata": {},
     "output_type": "execute_result"
    }
   ],
   "source": [
    "iter(x)"
   ]
  },
  {
   "cell_type": "code",
   "execution_count": null,
   "id": "95380d0b",
   "metadata": {},
   "outputs": [],
   "source": []
  }
 ],
 "metadata": {
  "kernelspec": {
   "display_name": "Python 3 (ipykernel)",
   "language": "python",
   "name": "python3"
  },
  "language_info": {
   "codemirror_mode": {
    "name": "ipython",
    "version": 3
   },
   "file_extension": ".py",
   "mimetype": "text/x-python",
   "name": "python",
   "nbconvert_exporter": "python",
   "pygments_lexer": "ipython3",
   "version": "3.12.2"
  }
 },
 "nbformat": 4,
 "nbformat_minor": 5
}
